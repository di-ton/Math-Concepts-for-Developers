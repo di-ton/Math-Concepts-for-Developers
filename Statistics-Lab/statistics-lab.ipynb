{
 "cells": [
  {
   "cell_type": "code",
   "execution_count": 1,
   "id": "a1f544d3-136f-4b28-88a0-8037186087d3",
   "metadata": {},
   "outputs": [],
   "source": [
    "%matplotlib inline"
   ]
  },
  {
   "cell_type": "code",
   "execution_count": 2,
   "id": "3ef79155-d31c-413e-b8a1-8094c6afffaa",
   "metadata": {},
   "outputs": [],
   "source": [
    "import numpy as np\n",
    "import pandas as pd\n",
    "import matplotlib.pyplot as plt"
   ]
  },
  {
   "cell_type": "markdown",
   "id": "d1e9e457-089d-4e29-888d-eba7d556952b",
   "metadata": {},
   "source": [
    "# Statistics"
   ]
  },
  {
   "cell_type": "markdown",
   "id": "67bce56f-dc9c-4778-a80d-006bd1a7243c",
   "metadata": {},
   "source": [
    "A dataset form Kaggel was used for data testing. [link to Kaggel's dataset](https://www.kaggle.com/datasets/mertbayraktar/english-premier-league-matches-20232024-season?resource=download)"
   ]
  },
  {
   "cell_type": "code",
   "execution_count": 3,
   "id": "8c0187c9-7832-47f1-9580-f328e18c3824",
   "metadata": {},
   "outputs": [],
   "source": [
    "matches = pd.read_csv(\"data/matches.csv\") # index_col = \"Date\""
   ]
  },
  {
   "cell_type": "code",
   "execution_count": 4,
   "id": "837ae4a7-51b6-40aa-9ef6-753c17793330",
   "metadata": {},
   "outputs": [
    {
     "data": {
      "text/html": [
       "<div>\n",
       "<style scoped>\n",
       "    .dataframe tbody tr th:only-of-type {\n",
       "        vertical-align: middle;\n",
       "    }\n",
       "\n",
       "    .dataframe tbody tr th {\n",
       "        vertical-align: top;\n",
       "    }\n",
       "\n",
       "    .dataframe thead th {\n",
       "        text-align: right;\n",
       "    }\n",
       "</style>\n",
       "<table border=\"1\" class=\"dataframe\">\n",
       "  <thead>\n",
       "    <tr style=\"text-align: right;\">\n",
       "      <th></th>\n",
       "      <th>Unnamed: 0</th>\n",
       "      <th>Date</th>\n",
       "      <th>Time</th>\n",
       "      <th>Comp</th>\n",
       "      <th>Round</th>\n",
       "      <th>Day</th>\n",
       "      <th>Venue</th>\n",
       "      <th>Result</th>\n",
       "      <th>GF</th>\n",
       "      <th>GA</th>\n",
       "      <th>...</th>\n",
       "      <th>Match Report</th>\n",
       "      <th>Notes</th>\n",
       "      <th>Sh</th>\n",
       "      <th>SoT</th>\n",
       "      <th>Dist</th>\n",
       "      <th>FK</th>\n",
       "      <th>PK</th>\n",
       "      <th>PKatt</th>\n",
       "      <th>Season</th>\n",
       "      <th>Team</th>\n",
       "    </tr>\n",
       "  </thead>\n",
       "  <tbody>\n",
       "    <tr>\n",
       "      <th>0</th>\n",
       "      <td>1</td>\n",
       "      <td>2023-08-11</td>\n",
       "      <td>20:00</td>\n",
       "      <td>Premier League</td>\n",
       "      <td>Matchweek 1</td>\n",
       "      <td>Fri</td>\n",
       "      <td>Away</td>\n",
       "      <td>W</td>\n",
       "      <td>3.0</td>\n",
       "      <td>0.0</td>\n",
       "      <td>...</td>\n",
       "      <td>Match Report</td>\n",
       "      <td>NaN</td>\n",
       "      <td>17.0</td>\n",
       "      <td>8.0</td>\n",
       "      <td>13.9</td>\n",
       "      <td>0.0</td>\n",
       "      <td>0</td>\n",
       "      <td>0</td>\n",
       "      <td>2024</td>\n",
       "      <td>ManchesterCity</td>\n",
       "    </tr>\n",
       "    <tr>\n",
       "      <th>1</th>\n",
       "      <td>3</td>\n",
       "      <td>2023-08-19</td>\n",
       "      <td>20:00</td>\n",
       "      <td>Premier League</td>\n",
       "      <td>Matchweek 2</td>\n",
       "      <td>Sat</td>\n",
       "      <td>Home</td>\n",
       "      <td>W</td>\n",
       "      <td>1.0</td>\n",
       "      <td>0.0</td>\n",
       "      <td>...</td>\n",
       "      <td>Match Report</td>\n",
       "      <td>NaN</td>\n",
       "      <td>14.0</td>\n",
       "      <td>4.0</td>\n",
       "      <td>17.9</td>\n",
       "      <td>0.0</td>\n",
       "      <td>0</td>\n",
       "      <td>0</td>\n",
       "      <td>2024</td>\n",
       "      <td>ManchesterCity</td>\n",
       "    </tr>\n",
       "    <tr>\n",
       "      <th>2</th>\n",
       "      <td>4</td>\n",
       "      <td>2023-08-27</td>\n",
       "      <td>14:00</td>\n",
       "      <td>Premier League</td>\n",
       "      <td>Matchweek 3</td>\n",
       "      <td>Sun</td>\n",
       "      <td>Away</td>\n",
       "      <td>W</td>\n",
       "      <td>2.0</td>\n",
       "      <td>1.0</td>\n",
       "      <td>...</td>\n",
       "      <td>Match Report</td>\n",
       "      <td>NaN</td>\n",
       "      <td>29.0</td>\n",
       "      <td>9.0</td>\n",
       "      <td>17.3</td>\n",
       "      <td>2.0</td>\n",
       "      <td>0</td>\n",
       "      <td>1</td>\n",
       "      <td>2024</td>\n",
       "      <td>ManchesterCity</td>\n",
       "    </tr>\n",
       "    <tr>\n",
       "      <th>3</th>\n",
       "      <td>5</td>\n",
       "      <td>2023-09-02</td>\n",
       "      <td>15:00</td>\n",
       "      <td>Premier League</td>\n",
       "      <td>Matchweek 4</td>\n",
       "      <td>Sat</td>\n",
       "      <td>Home</td>\n",
       "      <td>W</td>\n",
       "      <td>5.0</td>\n",
       "      <td>1.0</td>\n",
       "      <td>...</td>\n",
       "      <td>Match Report</td>\n",
       "      <td>NaN</td>\n",
       "      <td>6.0</td>\n",
       "      <td>4.0</td>\n",
       "      <td>14.8</td>\n",
       "      <td>0.0</td>\n",
       "      <td>1</td>\n",
       "      <td>1</td>\n",
       "      <td>2024</td>\n",
       "      <td>ManchesterCity</td>\n",
       "    </tr>\n",
       "    <tr>\n",
       "      <th>4</th>\n",
       "      <td>6</td>\n",
       "      <td>2023-09-16</td>\n",
       "      <td>15:00</td>\n",
       "      <td>Premier League</td>\n",
       "      <td>Matchweek 5</td>\n",
       "      <td>Sat</td>\n",
       "      <td>Away</td>\n",
       "      <td>W</td>\n",
       "      <td>3.0</td>\n",
       "      <td>1.0</td>\n",
       "      <td>...</td>\n",
       "      <td>Match Report</td>\n",
       "      <td>NaN</td>\n",
       "      <td>29.0</td>\n",
       "      <td>13.0</td>\n",
       "      <td>16.4</td>\n",
       "      <td>1.0</td>\n",
       "      <td>0</td>\n",
       "      <td>0</td>\n",
       "      <td>2024</td>\n",
       "      <td>ManchesterCity</td>\n",
       "    </tr>\n",
       "    <tr>\n",
       "      <th>...</th>\n",
       "      <td>...</td>\n",
       "      <td>...</td>\n",
       "      <td>...</td>\n",
       "      <td>...</td>\n",
       "      <td>...</td>\n",
       "      <td>...</td>\n",
       "      <td>...</td>\n",
       "      <td>...</td>\n",
       "      <td>...</td>\n",
       "      <td>...</td>\n",
       "      <td>...</td>\n",
       "      <td>...</td>\n",
       "      <td>...</td>\n",
       "      <td>...</td>\n",
       "      <td>...</td>\n",
       "      <td>...</td>\n",
       "      <td>...</td>\n",
       "      <td>...</td>\n",
       "      <td>...</td>\n",
       "      <td>...</td>\n",
       "      <td>...</td>\n",
       "    </tr>\n",
       "    <tr>\n",
       "      <th>725</th>\n",
       "      <td>35</td>\n",
       "      <td>2024-04-20</td>\n",
       "      <td>15:00</td>\n",
       "      <td>Premier League</td>\n",
       "      <td>Matchweek 34</td>\n",
       "      <td>Sat</td>\n",
       "      <td>Home</td>\n",
       "      <td>L</td>\n",
       "      <td>1.0</td>\n",
       "      <td>4.0</td>\n",
       "      <td>...</td>\n",
       "      <td>Match Report</td>\n",
       "      <td>NaN</td>\n",
       "      <td>18.0</td>\n",
       "      <td>11.0</td>\n",
       "      <td>14.9</td>\n",
       "      <td>0.0</td>\n",
       "      <td>0</td>\n",
       "      <td>0</td>\n",
       "      <td>2024</td>\n",
       "      <td>SheffieldUnited</td>\n",
       "    </tr>\n",
       "    <tr>\n",
       "      <th>726</th>\n",
       "      <td>36</td>\n",
       "      <td>2024-04-24</td>\n",
       "      <td>20:00</td>\n",
       "      <td>Premier League</td>\n",
       "      <td>Matchweek 29</td>\n",
       "      <td>Wed</td>\n",
       "      <td>Away</td>\n",
       "      <td>L</td>\n",
       "      <td>2.0</td>\n",
       "      <td>4.0</td>\n",
       "      <td>...</td>\n",
       "      <td>Match Report</td>\n",
       "      <td>NaN</td>\n",
       "      <td>10.0</td>\n",
       "      <td>4.0</td>\n",
       "      <td>17.8</td>\n",
       "      <td>1.0</td>\n",
       "      <td>0</td>\n",
       "      <td>0</td>\n",
       "      <td>2024</td>\n",
       "      <td>SheffieldUnited</td>\n",
       "    </tr>\n",
       "    <tr>\n",
       "      <th>727</th>\n",
       "      <td>37</td>\n",
       "      <td>2024-04-27</td>\n",
       "      <td>15:00</td>\n",
       "      <td>Premier League</td>\n",
       "      <td>Matchweek 35</td>\n",
       "      <td>Sat</td>\n",
       "      <td>Away</td>\n",
       "      <td>L</td>\n",
       "      <td>1.0</td>\n",
       "      <td>5.0</td>\n",
       "      <td>...</td>\n",
       "      <td>Match Report</td>\n",
       "      <td>NaN</td>\n",
       "      <td>15.0</td>\n",
       "      <td>4.0</td>\n",
       "      <td>13.5</td>\n",
       "      <td>0.0</td>\n",
       "      <td>0</td>\n",
       "      <td>0</td>\n",
       "      <td>2024</td>\n",
       "      <td>SheffieldUnited</td>\n",
       "    </tr>\n",
       "    <tr>\n",
       "      <th>728</th>\n",
       "      <td>38</td>\n",
       "      <td>2024-05-04</td>\n",
       "      <td>15:00</td>\n",
       "      <td>Premier League</td>\n",
       "      <td>Matchweek 36</td>\n",
       "      <td>Sat</td>\n",
       "      <td>Home</td>\n",
       "      <td>L</td>\n",
       "      <td>1.0</td>\n",
       "      <td>3.0</td>\n",
       "      <td>...</td>\n",
       "      <td>Match Report</td>\n",
       "      <td>NaN</td>\n",
       "      <td>16.0</td>\n",
       "      <td>4.0</td>\n",
       "      <td>18.0</td>\n",
       "      <td>0.0</td>\n",
       "      <td>1</td>\n",
       "      <td>1</td>\n",
       "      <td>2024</td>\n",
       "      <td>SheffieldUnited</td>\n",
       "    </tr>\n",
       "    <tr>\n",
       "      <th>729</th>\n",
       "      <td>39</td>\n",
       "      <td>2024-05-11</td>\n",
       "      <td>15:00</td>\n",
       "      <td>Premier League</td>\n",
       "      <td>Matchweek 37</td>\n",
       "      <td>Sat</td>\n",
       "      <td>Away</td>\n",
       "      <td>L</td>\n",
       "      <td>0.0</td>\n",
       "      <td>1.0</td>\n",
       "      <td>...</td>\n",
       "      <td>Match Report</td>\n",
       "      <td>NaN</td>\n",
       "      <td>13.0</td>\n",
       "      <td>1.0</td>\n",
       "      <td>20.8</td>\n",
       "      <td>0.0</td>\n",
       "      <td>0</td>\n",
       "      <td>0</td>\n",
       "      <td>2024</td>\n",
       "      <td>SheffieldUnited</td>\n",
       "    </tr>\n",
       "  </tbody>\n",
       "</table>\n",
       "<p>730 rows × 28 columns</p>\n",
       "</div>"
      ],
      "text/plain": [
       "     Unnamed: 0        Date   Time            Comp         Round  Day Venue  \\\n",
       "0             1  2023-08-11  20:00  Premier League   Matchweek 1  Fri  Away   \n",
       "1             3  2023-08-19  20:00  Premier League   Matchweek 2  Sat  Home   \n",
       "2             4  2023-08-27  14:00  Premier League   Matchweek 3  Sun  Away   \n",
       "3             5  2023-09-02  15:00  Premier League   Matchweek 4  Sat  Home   \n",
       "4             6  2023-09-16  15:00  Premier League   Matchweek 5  Sat  Away   \n",
       "..          ...         ...    ...             ...           ...  ...   ...   \n",
       "725          35  2024-04-20  15:00  Premier League  Matchweek 34  Sat  Home   \n",
       "726          36  2024-04-24  20:00  Premier League  Matchweek 29  Wed  Away   \n",
       "727          37  2024-04-27  15:00  Premier League  Matchweek 35  Sat  Away   \n",
       "728          38  2024-05-04  15:00  Premier League  Matchweek 36  Sat  Home   \n",
       "729          39  2024-05-11  15:00  Premier League  Matchweek 37  Sat  Away   \n",
       "\n",
       "    Result   GF   GA  ...  Match Report  Notes    Sh   SoT  Dist   FK PK  \\\n",
       "0        W  3.0  0.0  ...  Match Report    NaN  17.0   8.0  13.9  0.0  0   \n",
       "1        W  1.0  0.0  ...  Match Report    NaN  14.0   4.0  17.9  0.0  0   \n",
       "2        W  2.0  1.0  ...  Match Report    NaN  29.0   9.0  17.3  2.0  0   \n",
       "3        W  5.0  1.0  ...  Match Report    NaN   6.0   4.0  14.8  0.0  1   \n",
       "4        W  3.0  1.0  ...  Match Report    NaN  29.0  13.0  16.4  1.0  0   \n",
       "..     ...  ...  ...  ...           ...    ...   ...   ...   ...  ... ..   \n",
       "725      L  1.0  4.0  ...  Match Report    NaN  18.0  11.0  14.9  0.0  0   \n",
       "726      L  2.0  4.0  ...  Match Report    NaN  10.0   4.0  17.8  1.0  0   \n",
       "727      L  1.0  5.0  ...  Match Report    NaN  15.0   4.0  13.5  0.0  0   \n",
       "728      L  1.0  3.0  ...  Match Report    NaN  16.0   4.0  18.0  0.0  1   \n",
       "729      L  0.0  1.0  ...  Match Report    NaN  13.0   1.0  20.8  0.0  0   \n",
       "\n",
       "    PKatt Season             Team  \n",
       "0       0   2024   ManchesterCity  \n",
       "1       0   2024   ManchesterCity  \n",
       "2       1   2024   ManchesterCity  \n",
       "3       1   2024   ManchesterCity  \n",
       "4       0   2024   ManchesterCity  \n",
       "..    ...    ...              ...  \n",
       "725     0   2024  SheffieldUnited  \n",
       "726     0   2024  SheffieldUnited  \n",
       "727     0   2024  SheffieldUnited  \n",
       "728     1   2024  SheffieldUnited  \n",
       "729     0   2024  SheffieldUnited  \n",
       "\n",
       "[730 rows x 28 columns]"
      ]
     },
     "execution_count": 4,
     "metadata": {},
     "output_type": "execute_result"
    }
   ],
   "source": [
    "matches"
   ]
  },
  {
   "cell_type": "code",
   "execution_count": 5,
   "id": "3150e9d0-9fbb-4c28-8495-cd08b7287619",
   "metadata": {},
   "outputs": [
    {
     "data": {
      "text/plain": [
       "(730, 28)"
      ]
     },
     "execution_count": 5,
     "metadata": {},
     "output_type": "execute_result"
    }
   ],
   "source": [
    "matches.shape"
   ]
  },
  {
   "cell_type": "code",
   "execution_count": 6,
   "id": "bd198b5c-745e-46a4-b865-7c7f92250a82",
   "metadata": {},
   "outputs": [
    {
     "data": {
      "text/plain": [
       "Index(['Unnamed: 0', 'Date', 'Time', 'Comp', 'Round', 'Day', 'Venue', 'Result',\n",
       "       'GF', 'GA', 'Opponent', 'xG', 'xGA', 'Poss', 'Attendance', 'Captain',\n",
       "       'Formation', 'Referee', 'Match Report', 'Notes', 'Sh', 'SoT', 'Dist',\n",
       "       'FK', 'PK', 'PKatt', 'Season', 'Team'],\n",
       "      dtype='object')"
      ]
     },
     "execution_count": 6,
     "metadata": {},
     "output_type": "execute_result"
    }
   ],
   "source": [
    "matches.columns"
   ]
  },
  {
   "cell_type": "code",
   "execution_count": 7,
   "id": "db662366-41dd-4c59-a86c-70da87d9b1ea",
   "metadata": {},
   "outputs": [
    {
     "data": {
      "text/plain": [
       "RangeIndex(start=0, stop=730, step=1)"
      ]
     },
     "execution_count": 7,
     "metadata": {},
     "output_type": "execute_result"
    }
   ],
   "source": [
    "matches.index"
   ]
  },
  {
   "cell_type": "code",
   "execution_count": 8,
   "id": "e3561da2-65b0-473b-a49f-3552a9e86395",
   "metadata": {},
   "outputs": [],
   "source": [
    "# matches.drop(columns = [\"Date\"])"
   ]
  },
  {
   "cell_type": "code",
   "execution_count": 9,
   "id": "e21ce21a-4b5d-404c-9484-e13c1abd6110",
   "metadata": {},
   "outputs": [],
   "source": [
    "sot = matches.SoT # sot = matches[\"SoT\"]"
   ]
  },
  {
   "cell_type": "code",
   "execution_count": 10,
   "id": "e1883d87-02d8-4b45-a774-c23ca9ec818d",
   "metadata": {},
   "outputs": [
    {
     "data": {
      "text/plain": [
       "0       8.0\n",
       "1       4.0\n",
       "2       9.0\n",
       "3       4.0\n",
       "4      13.0\n",
       "       ... \n",
       "725    11.0\n",
       "726     4.0\n",
       "727     4.0\n",
       "728     4.0\n",
       "729     1.0\n",
       "Name: SoT, Length: 730, dtype: float64"
      ]
     },
     "execution_count": 10,
     "metadata": {},
     "output_type": "execute_result"
    }
   ],
   "source": [
    "sot"
   ]
  },
  {
   "cell_type": "code",
   "execution_count": 11,
   "id": "5d19e6ad-3a2e-4d05-8536-fcae4d912a21",
   "metadata": {},
   "outputs": [
    {
     "data": {
      "text/plain": [
       "(0.0, 15.0)"
      ]
     },
     "execution_count": 11,
     "metadata": {},
     "output_type": "execute_result"
    }
   ],
   "source": [
    "sot.min(), sot.max()"
   ]
  },
  {
   "cell_type": "code",
   "execution_count": 12,
   "id": "1d539cb8-b6ef-4d88-9cea-6db480df2fa0",
   "metadata": {},
   "outputs": [
    {
     "data": {
      "image/png": "[encoded data removed]",
      "text/plain": [
       "<Figure size 640x480 with 1 Axes>"
      ]
     },
     "metadata": {},
     "output_type": "display_data"
    }
   ],
   "source": [
    "plt.hist(sot, bins = 15)\n",
    "plt.xlabel(\"Shots on Target\")\n",
    "plt.ylabel(\"Frequency\")\n",
    "plt.show()"
   ]
  },
  {
   "cell_type": "code",
   "execution_count": 13,
   "id": "4f961b83-16f0-4446-ab21-ec04c08a9d5f",
   "metadata": {},
   "outputs": [
    {
     "data": {
      "text/plain": [
       "array([ 8.,  4.,  9., 13.,  0.,  5.,  2.,  6., 11., 15.,  3., 10.,  1.,\n",
       "       12.,  7., 14.])"
      ]
     },
     "execution_count": 13,
     "metadata": {},
     "output_type": "execute_result"
    }
   ],
   "source": [
    "sot.unique()"
   ]
  },
  {
   "cell_type": "code",
   "execution_count": 14,
   "id": "cf93489a-fac8-46fd-a7bf-98edec0ca1d6",
   "metadata": {},
   "outputs": [
    {
     "data": {
      "text/plain": [
       "16"
      ]
     },
     "execution_count": 14,
     "metadata": {},
     "output_type": "execute_result"
    }
   ],
   "source": [
    "len(sot.unique())\n",
    "sot.nunique()\n",
    "sot.nunique(dropna = False)"
   ]
  },
  {
   "cell_type": "code",
   "execution_count": 15,
   "id": "71680d1f-a0e4-4b21-8ee3-cf08ba81b327",
   "metadata": {},
   "outputs": [
    {
     "data": {
      "text/plain": [
       "0      False\n",
       "1       True\n",
       "2      False\n",
       "3       True\n",
       "4      False\n",
       "       ...  \n",
       "725    False\n",
       "726     True\n",
       "727     True\n",
       "728     True\n",
       "729    False\n",
       "Name: SoT, Length: 730, dtype: bool"
      ]
     },
     "execution_count": 15,
     "metadata": {},
     "output_type": "execute_result"
    }
   ],
   "source": [
    "sot == 4.0"
   ]
  },
  {
   "cell_type": "code",
   "execution_count": 16,
   "id": "f6b5ae97-2ae0-4b24-a248-ef9097e523b8",
   "metadata": {},
   "outputs": [
    {
     "data": {
      "text/plain": [
       "array([False, False,  True, False, False,  True, False,  True])"
      ]
     },
     "execution_count": 16,
     "metadata": {},
     "output_type": "execute_result"
    }
   ],
   "source": [
    "np.array([1, 2, 3, 1, 2, 3, 2, 3]) == 3"
   ]
  },
  {
   "cell_type": "code",
   "execution_count": 17,
   "id": "023434e1-eedd-49b3-a028-fcebbdf75c69",
   "metadata": {},
   "outputs": [
    {
     "data": {
      "text/plain": [
       "36     7.0\n",
       "56     7.0\n",
       "58     7.0\n",
       "61     7.0\n",
       "92     7.0\n",
       "104    7.0\n",
       "105    7.0\n",
       "113    7.0\n",
       "122    7.0\n",
       "156    7.0\n",
       "174    7.0\n",
       "188    7.0\n",
       "208    7.0\n",
       "215    7.0\n",
       "242    7.0\n",
       "270    7.0\n",
       "289    7.0\n",
       "338    7.0\n",
       "342    7.0\n",
       "349    7.0\n",
       "358    7.0\n",
       "373    7.0\n",
       "429    7.0\n",
       "430    7.0\n",
       "442    7.0\n",
       "458    7.0\n",
       "493    7.0\n",
       "499    7.0\n",
       "510    7.0\n",
       "546    7.0\n",
       "548    7.0\n",
       "570    7.0\n",
       "640    7.0\n",
       "669    7.0\n",
       "676    7.0\n",
       "696    7.0\n",
       "Name: SoT, dtype: float64"
      ]
     },
     "execution_count": 17,
     "metadata": {},
     "output_type": "execute_result"
    }
   ],
   "source": [
    "sot[sot == 7.0]"
   ]
  },
  {
   "cell_type": "code",
   "execution_count": 18,
   "id": "cfd60200-bea9-44ad-abf4-6f8bb8c30906",
   "metadata": {},
   "outputs": [
    {
     "data": {
      "text/html": [
       "<div>\n",
       "<style scoped>\n",
       "    .dataframe tbody tr th:only-of-type {\n",
       "        vertical-align: middle;\n",
       "    }\n",
       "\n",
       "    .dataframe tbody tr th {\n",
       "        vertical-align: top;\n",
       "    }\n",
       "\n",
       "    .dataframe thead th {\n",
       "        text-align: right;\n",
       "    }\n",
       "</style>\n",
       "<table border=\"1\" class=\"dataframe\">\n",
       "  <thead>\n",
       "    <tr style=\"text-align: right;\">\n",
       "      <th></th>\n",
       "      <th>Unnamed: 0</th>\n",
       "      <th>Date</th>\n",
       "      <th>Time</th>\n",
       "      <th>Comp</th>\n",
       "      <th>Round</th>\n",
       "      <th>Day</th>\n",
       "      <th>Venue</th>\n",
       "      <th>Result</th>\n",
       "      <th>GF</th>\n",
       "      <th>GA</th>\n",
       "      <th>...</th>\n",
       "      <th>Match Report</th>\n",
       "      <th>Notes</th>\n",
       "      <th>Sh</th>\n",
       "      <th>SoT</th>\n",
       "      <th>Dist</th>\n",
       "      <th>FK</th>\n",
       "      <th>PK</th>\n",
       "      <th>PKatt</th>\n",
       "      <th>Season</th>\n",
       "      <th>Team</th>\n",
       "    </tr>\n",
       "  </thead>\n",
       "  <tbody>\n",
       "    <tr>\n",
       "      <th>1</th>\n",
       "      <td>3</td>\n",
       "      <td>2023-08-19</td>\n",
       "      <td>20:00</td>\n",
       "      <td>Premier League</td>\n",
       "      <td>Matchweek 2</td>\n",
       "      <td>Sat</td>\n",
       "      <td>Home</td>\n",
       "      <td>W</td>\n",
       "      <td>1.0</td>\n",
       "      <td>0.0</td>\n",
       "      <td>...</td>\n",
       "      <td>Match Report</td>\n",
       "      <td>NaN</td>\n",
       "      <td>14.0</td>\n",
       "      <td>4.0</td>\n",
       "      <td>17.9</td>\n",
       "      <td>0.0</td>\n",
       "      <td>0</td>\n",
       "      <td>0</td>\n",
       "      <td>2024</td>\n",
       "      <td>ManchesterCity</td>\n",
       "    </tr>\n",
       "    <tr>\n",
       "      <th>3</th>\n",
       "      <td>5</td>\n",
       "      <td>2023-09-02</td>\n",
       "      <td>15:00</td>\n",
       "      <td>Premier League</td>\n",
       "      <td>Matchweek 4</td>\n",
       "      <td>Sat</td>\n",
       "      <td>Home</td>\n",
       "      <td>W</td>\n",
       "      <td>5.0</td>\n",
       "      <td>1.0</td>\n",
       "      <td>...</td>\n",
       "      <td>Match Report</td>\n",
       "      <td>NaN</td>\n",
       "      <td>6.0</td>\n",
       "      <td>4.0</td>\n",
       "      <td>14.8</td>\n",
       "      <td>0.0</td>\n",
       "      <td>1</td>\n",
       "      <td>1</td>\n",
       "      <td>2024</td>\n",
       "      <td>ManchesterCity</td>\n",
       "    </tr>\n",
       "    <tr>\n",
       "      <th>5</th>\n",
       "      <td>8</td>\n",
       "      <td>2023-09-23</td>\n",
       "      <td>15:00</td>\n",
       "      <td>Premier League</td>\n",
       "      <td>Matchweek 6</td>\n",
       "      <td>Sat</td>\n",
       "      <td>Home</td>\n",
       "      <td>W</td>\n",
       "      <td>2.0</td>\n",
       "      <td>0.0</td>\n",
       "      <td>...</td>\n",
       "      <td>Match Report</td>\n",
       "      <td>NaN</td>\n",
       "      <td>7.0</td>\n",
       "      <td>4.0</td>\n",
       "      <td>17.2</td>\n",
       "      <td>2.0</td>\n",
       "      <td>0</td>\n",
       "      <td>0</td>\n",
       "      <td>2024</td>\n",
       "      <td>ManchesterCity</td>\n",
       "    </tr>\n",
       "    <tr>\n",
       "      <th>7</th>\n",
       "      <td>12</td>\n",
       "      <td>2023-10-08</td>\n",
       "      <td>16:30</td>\n",
       "      <td>Premier League</td>\n",
       "      <td>Matchweek 8</td>\n",
       "      <td>Sun</td>\n",
       "      <td>Away</td>\n",
       "      <td>L</td>\n",
       "      <td>0.0</td>\n",
       "      <td>1.0</td>\n",
       "      <td>...</td>\n",
       "      <td>Match Report</td>\n",
       "      <td>NaN</td>\n",
       "      <td>4.0</td>\n",
       "      <td>0.0</td>\n",
       "      <td>14.9</td>\n",
       "      <td>0.0</td>\n",
       "      <td>0</td>\n",
       "      <td>0</td>\n",
       "      <td>2024</td>\n",
       "      <td>ManchesterCity</td>\n",
       "    </tr>\n",
       "    <tr>\n",
       "      <th>8</th>\n",
       "      <td>13</td>\n",
       "      <td>2023-10-21</td>\n",
       "      <td>15:00</td>\n",
       "      <td>Premier League</td>\n",
       "      <td>Matchweek 9</td>\n",
       "      <td>Sat</td>\n",
       "      <td>Home</td>\n",
       "      <td>W</td>\n",
       "      <td>2.0</td>\n",
       "      <td>1.0</td>\n",
       "      <td>...</td>\n",
       "      <td>Match Report</td>\n",
       "      <td>NaN</td>\n",
       "      <td>10.0</td>\n",
       "      <td>5.0</td>\n",
       "      <td>18.8</td>\n",
       "      <td>1.0</td>\n",
       "      <td>0</td>\n",
       "      <td>0</td>\n",
       "      <td>2024</td>\n",
       "      <td>ManchesterCity</td>\n",
       "    </tr>\n",
       "    <tr>\n",
       "      <th>...</th>\n",
       "      <td>...</td>\n",
       "      <td>...</td>\n",
       "      <td>...</td>\n",
       "      <td>...</td>\n",
       "      <td>...</td>\n",
       "      <td>...</td>\n",
       "      <td>...</td>\n",
       "      <td>...</td>\n",
       "      <td>...</td>\n",
       "      <td>...</td>\n",
       "      <td>...</td>\n",
       "      <td>...</td>\n",
       "      <td>...</td>\n",
       "      <td>...</td>\n",
       "      <td>...</td>\n",
       "      <td>...</td>\n",
       "      <td>...</td>\n",
       "      <td>...</td>\n",
       "      <td>...</td>\n",
       "      <td>...</td>\n",
       "      <td>...</td>\n",
       "    </tr>\n",
       "    <tr>\n",
       "      <th>724</th>\n",
       "      <td>34</td>\n",
       "      <td>2024-04-13</td>\n",
       "      <td>15:00</td>\n",
       "      <td>Premier League</td>\n",
       "      <td>Matchweek 33</td>\n",
       "      <td>Sat</td>\n",
       "      <td>Away</td>\n",
       "      <td>L</td>\n",
       "      <td>0.0</td>\n",
       "      <td>2.0</td>\n",
       "      <td>...</td>\n",
       "      <td>Match Report</td>\n",
       "      <td>NaN</td>\n",
       "      <td>8.0</td>\n",
       "      <td>2.0</td>\n",
       "      <td>15.1</td>\n",
       "      <td>0.0</td>\n",
       "      <td>0</td>\n",
       "      <td>0</td>\n",
       "      <td>2024</td>\n",
       "      <td>SheffieldUnited</td>\n",
       "    </tr>\n",
       "    <tr>\n",
       "      <th>726</th>\n",
       "      <td>36</td>\n",
       "      <td>2024-04-24</td>\n",
       "      <td>20:00</td>\n",
       "      <td>Premier League</td>\n",
       "      <td>Matchweek 29</td>\n",
       "      <td>Wed</td>\n",
       "      <td>Away</td>\n",
       "      <td>L</td>\n",
       "      <td>2.0</td>\n",
       "      <td>4.0</td>\n",
       "      <td>...</td>\n",
       "      <td>Match Report</td>\n",
       "      <td>NaN</td>\n",
       "      <td>10.0</td>\n",
       "      <td>4.0</td>\n",
       "      <td>17.8</td>\n",
       "      <td>1.0</td>\n",
       "      <td>0</td>\n",
       "      <td>0</td>\n",
       "      <td>2024</td>\n",
       "      <td>SheffieldUnited</td>\n",
       "    </tr>\n",
       "    <tr>\n",
       "      <th>727</th>\n",
       "      <td>37</td>\n",
       "      <td>2024-04-27</td>\n",
       "      <td>15:00</td>\n",
       "      <td>Premier League</td>\n",
       "      <td>Matchweek 35</td>\n",
       "      <td>Sat</td>\n",
       "      <td>Away</td>\n",
       "      <td>L</td>\n",
       "      <td>1.0</td>\n",
       "      <td>5.0</td>\n",
       "      <td>...</td>\n",
       "      <td>Match Report</td>\n",
       "      <td>NaN</td>\n",
       "      <td>15.0</td>\n",
       "      <td>4.0</td>\n",
       "      <td>13.5</td>\n",
       "      <td>0.0</td>\n",
       "      <td>0</td>\n",
       "      <td>0</td>\n",
       "      <td>2024</td>\n",
       "      <td>SheffieldUnited</td>\n",
       "    </tr>\n",
       "    <tr>\n",
       "      <th>728</th>\n",
       "      <td>38</td>\n",
       "      <td>2024-05-04</td>\n",
       "      <td>15:00</td>\n",
       "      <td>Premier League</td>\n",
       "      <td>Matchweek 36</td>\n",
       "      <td>Sat</td>\n",
       "      <td>Home</td>\n",
       "      <td>L</td>\n",
       "      <td>1.0</td>\n",
       "      <td>3.0</td>\n",
       "      <td>...</td>\n",
       "      <td>Match Report</td>\n",
       "      <td>NaN</td>\n",
       "      <td>16.0</td>\n",
       "      <td>4.0</td>\n",
       "      <td>18.0</td>\n",
       "      <td>0.0</td>\n",
       "      <td>1</td>\n",
       "      <td>1</td>\n",
       "      <td>2024</td>\n",
       "      <td>SheffieldUnited</td>\n",
       "    </tr>\n",
       "    <tr>\n",
       "      <th>729</th>\n",
       "      <td>39</td>\n",
       "      <td>2024-05-11</td>\n",
       "      <td>15:00</td>\n",
       "      <td>Premier League</td>\n",
       "      <td>Matchweek 37</td>\n",
       "      <td>Sat</td>\n",
       "      <td>Away</td>\n",
       "      <td>L</td>\n",
       "      <td>0.0</td>\n",
       "      <td>1.0</td>\n",
       "      <td>...</td>\n",
       "      <td>Match Report</td>\n",
       "      <td>NaN</td>\n",
       "      <td>13.0</td>\n",
       "      <td>1.0</td>\n",
       "      <td>20.8</td>\n",
       "      <td>0.0</td>\n",
       "      <td>0</td>\n",
       "      <td>0</td>\n",
       "      <td>2024</td>\n",
       "      <td>SheffieldUnited</td>\n",
       "    </tr>\n",
       "  </tbody>\n",
       "</table>\n",
       "<p>498 rows × 28 columns</p>\n",
       "</div>"
      ],
      "text/plain": [
       "     Unnamed: 0        Date   Time            Comp         Round  Day Venue  \\\n",
       "1             3  2023-08-19  20:00  Premier League   Matchweek 2  Sat  Home   \n",
       "3             5  2023-09-02  15:00  Premier League   Matchweek 4  Sat  Home   \n",
       "5             8  2023-09-23  15:00  Premier League   Matchweek 6  Sat  Home   \n",
       "7            12  2023-10-08  16:30  Premier League   Matchweek 8  Sun  Away   \n",
       "8            13  2023-10-21  15:00  Premier League   Matchweek 9  Sat  Home   \n",
       "..          ...         ...    ...             ...           ...  ...   ...   \n",
       "724          34  2024-04-13  15:00  Premier League  Matchweek 33  Sat  Away   \n",
       "726          36  2024-04-24  20:00  Premier League  Matchweek 29  Wed  Away   \n",
       "727          37  2024-04-27  15:00  Premier League  Matchweek 35  Sat  Away   \n",
       "728          38  2024-05-04  15:00  Premier League  Matchweek 36  Sat  Home   \n",
       "729          39  2024-05-11  15:00  Premier League  Matchweek 37  Sat  Away   \n",
       "\n",
       "    Result   GF   GA  ...  Match Report  Notes    Sh  SoT  Dist   FK PK PKatt  \\\n",
       "1        W  1.0  0.0  ...  Match Report    NaN  14.0  4.0  17.9  0.0  0     0   \n",
       "3        W  5.0  1.0  ...  Match Report    NaN   6.0  4.0  14.8  0.0  1     1   \n",
       "5        W  2.0  0.0  ...  Match Report    NaN   7.0  4.0  17.2  2.0  0     0   \n",
       "7        L  0.0  1.0  ...  Match Report    NaN   4.0  0.0  14.9  0.0  0     0   \n",
       "8        W  2.0  1.0  ...  Match Report    NaN  10.0  5.0  18.8  1.0  0     0   \n",
       "..     ...  ...  ...  ...           ...    ...   ...  ...   ...  ... ..   ...   \n",
       "724      L  0.0  2.0  ...  Match Report    NaN   8.0  2.0  15.1  0.0  0     0   \n",
       "726      L  2.0  4.0  ...  Match Report    NaN  10.0  4.0  17.8  1.0  0     0   \n",
       "727      L  1.0  5.0  ...  Match Report    NaN  15.0  4.0  13.5  0.0  0     0   \n",
       "728      L  1.0  3.0  ...  Match Report    NaN  16.0  4.0  18.0  0.0  1     1   \n",
       "729      L  0.0  1.0  ...  Match Report    NaN  13.0  1.0  20.8  0.0  0     0   \n",
       "\n",
       "    Season             Team  \n",
       "1     2024   ManchesterCity  \n",
       "3     2024   ManchesterCity  \n",
       "5     2024   ManchesterCity  \n",
       "7     2024   ManchesterCity  \n",
       "8     2024   ManchesterCity  \n",
       "..     ...              ...  \n",
       "724   2024  SheffieldUnited  \n",
       "726   2024  SheffieldUnited  \n",
       "727   2024  SheffieldUnited  \n",
       "728   2024  SheffieldUnited  \n",
       "729   2024  SheffieldUnited  \n",
       "\n",
       "[498 rows x 28 columns]"
      ]
     },
     "execution_count": 18,
     "metadata": {},
     "output_type": "execute_result"
    }
   ],
   "source": [
    "matches[sot <= 5.0]"
   ]
  },
  {
   "cell_type": "code",
   "execution_count": 19,
   "id": "ffe17ca4-18a5-46cf-8ba6-4656093ea760",
   "metadata": {},
   "outputs": [],
   "source": [
    "finite_sot_values = matches[(sot <= 3.0) & (sot >= 12.0)]"
   ]
  },
  {
   "cell_type": "code",
   "execution_count": 20,
   "id": "625ef98b-907e-4974-9055-d78c9a3cffdf",
   "metadata": {},
   "outputs": [
    {
     "data": {
      "text/html": [
       "<div>\n",
       "<style scoped>\n",
       "    .dataframe tbody tr th:only-of-type {\n",
       "        vertical-align: middle;\n",
       "    }\n",
       "\n",
       "    .dataframe tbody tr th {\n",
       "        vertical-align: top;\n",
       "    }\n",
       "\n",
       "    .dataframe thead th {\n",
       "        text-align: right;\n",
       "    }\n",
       "</style>\n",
       "<table border=\"1\" class=\"dataframe\">\n",
       "  <thead>\n",
       "    <tr style=\"text-align: right;\">\n",
       "      <th></th>\n",
       "      <th>Unnamed: 0</th>\n",
       "      <th>Date</th>\n",
       "      <th>Time</th>\n",
       "      <th>Comp</th>\n",
       "      <th>Round</th>\n",
       "      <th>Day</th>\n",
       "      <th>Venue</th>\n",
       "      <th>Result</th>\n",
       "      <th>GF</th>\n",
       "      <th>GA</th>\n",
       "      <th>...</th>\n",
       "      <th>Match Report</th>\n",
       "      <th>Notes</th>\n",
       "      <th>Sh</th>\n",
       "      <th>SoT</th>\n",
       "      <th>Dist</th>\n",
       "      <th>FK</th>\n",
       "      <th>PK</th>\n",
       "      <th>PKatt</th>\n",
       "      <th>Season</th>\n",
       "      <th>Team</th>\n",
       "    </tr>\n",
       "  </thead>\n",
       "  <tbody>\n",
       "  </tbody>\n",
       "</table>\n",
       "<p>0 rows × 28 columns</p>\n",
       "</div>"
      ],
      "text/plain": [
       "Empty DataFrame\n",
       "Columns: [Unnamed: 0, Date, Time, Comp, Round, Day, Venue, Result, GF, GA, Opponent, xG, xGA, Poss, Attendance, Captain, Formation, Referee, Match Report, Notes, Sh, SoT, Dist, FK, PK, PKatt, Season, Team]\n",
       "Index: []\n",
       "\n",
       "[0 rows x 28 columns]"
      ]
     },
     "execution_count": 20,
     "metadata": {},
     "output_type": "execute_result"
    }
   ],
   "source": [
    "matches[(sot <= 3.0) & (sot >= 12.0)]"
   ]
  },
  {
   "cell_type": "code",
   "execution_count": 21,
   "id": "93e0f88d-bd36-4f21-9a02-5dc38481de77",
   "metadata": {},
   "outputs": [
    {
     "data": {
      "image/png": "[encoded data removed]",
      "text/plain": [
       "<Figure size 640x480 with 1 Axes>"
      ]
     },
     "metadata": {},
     "output_type": "display_data"
    }
   ],
   "source": [
    "plt.hist(finite_sot_values.SoT, bins = 16)\n",
    "plt.xlim(0, 16)\n",
    "plt.ylim(0, 150)\n",
    "plt.xlabel(\"Shots on Target\")\n",
    "plt.ylabel(\"Frequency\")\n",
    "plt.show()"
   ]
  },
  {
   "cell_type": "code",
   "execution_count": 22,
   "id": "bb929a0f-18f3-4137-b841-d2a7aa34968c",
   "metadata": {},
   "outputs": [
    {
     "data": {
      "text/plain": [
       "SoT\n",
       "4.0     126\n",
       "3.0     116\n",
       "5.0     101\n",
       "2.0      88\n",
       "6.0      86\n",
       "1.0      59\n",
       "8.0      45\n",
       "7.0      36\n",
       "9.0      27\n",
       "10.0     16\n",
       "11.0      9\n",
       "0.0       8\n",
       "12.0      7\n",
       "13.0      3\n",
       "15.0      2\n",
       "14.0      1\n",
       "Name: count, dtype: int64"
      ]
     },
     "execution_count": 22,
     "metadata": {},
     "output_type": "execute_result"
    }
   ],
   "source": [
    "sot.value_counts()"
   ]
  },
  {
   "cell_type": "code",
   "execution_count": 23,
   "id": "aec17175-6160-4074-b73b-0901331cff3b",
   "metadata": {},
   "outputs": [],
   "source": [
    "histogram_data = sot.value_counts().sort_index()"
   ]
  },
  {
   "cell_type": "code",
   "execution_count": 24,
   "id": "ba14190e-6bd3-4030-90b5-eb1e1c44c15c",
   "metadata": {},
   "outputs": [
    {
     "data": {
      "image/png": "[encoded data removed]",
      "text/plain": [
       "<Figure size 640x480 with 1 Axes>"
      ]
     },
     "metadata": {},
     "output_type": "display_data"
    }
   ],
   "source": [
    "plt.bar(histogram_data.index, histogram_data)\n",
    "plt.xlabel(\"Shots on target\")\n",
    "plt.ylabel(\"Frequency\")\n",
    "plt.title(\"SoT in season 2023/24\")\n",
    "plt.show()"
   ]
  },
  {
   "cell_type": "code",
   "execution_count": 25,
   "id": "52ad5731-9a65-41e9-8a4b-fb13e523552a",
   "metadata": {},
   "outputs": [
    {
     "data": {
      "text/plain": [
       "4.642465753424657"
      ]
     },
     "execution_count": 25,
     "metadata": {},
     "output_type": "execute_result"
    }
   ],
   "source": [
    "sot.mean()"
   ]
  },
  {
   "cell_type": "code",
   "execution_count": 26,
   "id": "9c55fb7f-a6fd-420d-a3d6-7caa1dcbfd70",
   "metadata": {},
   "outputs": [
    {
     "data": {
      "text/plain": [
       "4.0"
      ]
     },
     "execution_count": 26,
     "metadata": {},
     "output_type": "execute_result"
    }
   ],
   "source": [
    "sot.median()"
   ]
  },
  {
   "cell_type": "code",
   "execution_count": 27,
   "id": "4dc81986-381d-4cad-b975-e5da69c969d9",
   "metadata": {},
   "outputs": [
    {
     "data": {
      "text/plain": [
       "0    4.0\n",
       "Name: SoT, dtype: float64"
      ]
     },
     "execution_count": 27,
     "metadata": {},
     "output_type": "execute_result"
    }
   ],
   "source": [
    "sot.mode()"
   ]
  },
  {
   "cell_type": "code",
   "execution_count": 28,
   "id": "da355227-a924-40b6-b262-76ee2f6dff02",
   "metadata": {},
   "outputs": [
    {
     "data": {
      "text/plain": [
       "array([4.])"
      ]
     },
     "execution_count": 28,
     "metadata": {},
     "output_type": "execute_result"
    }
   ],
   "source": [
    "sot.mode().values"
   ]
  },
  {
   "cell_type": "code",
   "execution_count": 29,
   "id": "4d8f9530-1185-4085-87b8-120473e31c9d",
   "metadata": {},
   "outputs": [
    {
     "data": {
      "text/plain": [
       "(4.0, 126)"
      ]
     },
     "execution_count": 29,
     "metadata": {},
     "output_type": "execute_result"
    }
   ],
   "source": [
    "sot.value_counts().idxmax(), sot.value_counts().max()"
   ]
  },
  {
   "cell_type": "code",
   "execution_count": 30,
   "id": "ccf0dbe3-abfb-4bd7-a4df-b2a181a63cec",
   "metadata": {},
   "outputs": [
    {
     "data": {
      "text/plain": [
       "45.625"
      ]
     },
     "execution_count": 30,
     "metadata": {},
     "output_type": "execute_result"
    }
   ],
   "source": [
    "sot.value_counts().mean()"
   ]
  },
  {
   "cell_type": "code",
   "execution_count": 31,
   "id": "ce11a306-729c-4a3e-adf6-c62825856609",
   "metadata": {},
   "outputs": [
    {
     "data": {
      "image/png": "[encoded data removed]",
      "text/plain": [
       "<Figure size 640x480 with 1 Axes>"
      ]
     },
     "metadata": {},
     "output_type": "display_data"
    }
   ],
   "source": [
    "hist_data = sot.value_counts()\n",
    "plt.hist(hist_data)\n",
    "\n",
    "plt.xlabel(\"times\")\n",
    "plt.ylabel(\"Shots on target\")\n",
    "plt.show()"
   ]
  },
  {
   "cell_type": "code",
   "execution_count": 32,
   "id": "22301d15-bd32-42b5-a406-d5d9f29eb848",
   "metadata": {},
   "outputs": [
    {
     "data": {
      "text/plain": [
       "6.913146175094414"
      ]
     },
     "execution_count": 32,
     "metadata": {},
     "output_type": "execute_result"
    }
   ],
   "source": [
    "sot.var()"
   ]
  },
  {
   "cell_type": "code",
   "execution_count": 33,
   "id": "8bb1ecd8-13d2-46a6-b8df-86a4c83202b4",
   "metadata": {},
   "outputs": [
    {
     "data": {
      "text/plain": [
       "2.6292862482229684"
      ]
     },
     "execution_count": 33,
     "metadata": {},
     "output_type": "execute_result"
    }
   ],
   "source": [
    "sot.std()"
   ]
  },
  {
   "cell_type": "code",
   "execution_count": 34,
   "id": "304c1816-b72b-4346-8fca-e0e83b7b0a6a",
   "metadata": {},
   "outputs": [
    {
     "data": {
      "text/plain": [
       "2.6292862482229684"
      ]
     },
     "execution_count": 34,
     "metadata": {},
     "output_type": "execute_result"
    }
   ],
   "source": [
    "np.sqrt(sot.var())"
   ]
  },
  {
   "cell_type": "code",
   "execution_count": 35,
   "id": "7f30b227-abed-4f36-ae8b-7191e71b88e7",
   "metadata": {},
   "outputs": [
    {
     "data": {
      "text/plain": [
       "0.8445245689339984"
      ]
     },
     "execution_count": 35,
     "metadata": {},
     "output_type": "execute_result"
    }
   ],
   "source": [
    "sot.skew()"
   ]
  },
  {
   "cell_type": "code",
   "execution_count": 36,
   "id": "8c587eb0-2814-4f83-bea4-761d640ce2ec",
   "metadata": {},
   "outputs": [
    {
     "data": {
      "text/plain": [
       "0.7450406146772166"
      ]
     },
     "execution_count": 36,
     "metadata": {},
     "output_type": "execute_result"
    }
   ],
   "source": [
    "sot.kurt()"
   ]
  },
  {
   "cell_type": "code",
   "execution_count": 37,
   "id": "47ad10b1-57fc-49c9-a032-f22f3db8c623",
   "metadata": {},
   "outputs": [
    {
     "data": {
      "text/plain": [
       "count    730.000000\n",
       "mean       4.642466\n",
       "std        2.629286\n",
       "min        0.000000\n",
       "25%        3.000000\n",
       "50%        4.000000\n",
       "75%        6.000000\n",
       "max       15.000000\n",
       "Name: SoT, dtype: float64"
      ]
     },
     "execution_count": 37,
     "metadata": {},
     "output_type": "execute_result"
    }
   ],
   "source": [
    "sot.describe()"
   ]
  },
  {
   "cell_type": "code",
   "execution_count": 38,
   "id": "2e6acfe1-0548-48c5-b44a-e88b57e750db",
   "metadata": {},
   "outputs": [
    {
     "data": {
      "image/png": "[encoded data removed]",
      "text/plain": [
       "<Figure size 640x480 with 1 Axes>"
      ]
     },
     "metadata": {},
     "output_type": "display_data"
    }
   ],
   "source": [
    "plt.boxplot(sot)\n",
    "plt.show()"
   ]
  },
  {
   "cell_type": "code",
   "execution_count": 39,
   "id": "2ecfeb74-87b8-47a1-8b2f-5315f141d54d",
   "metadata": {},
   "outputs": [
    {
     "data": {
      "text/plain": [
       "0       ManchesterCity\n",
       "1       ManchesterCity\n",
       "2       ManchesterCity\n",
       "3       ManchesterCity\n",
       "4       ManchesterCity\n",
       "            ...       \n",
       "725    SheffieldUnited\n",
       "726    SheffieldUnited\n",
       "727    SheffieldUnited\n",
       "728    SheffieldUnited\n",
       "729    SheffieldUnited\n",
       "Name: Team, Length: 730, dtype: object"
      ]
     },
     "execution_count": 39,
     "metadata": {},
     "output_type": "execute_result"
    }
   ],
   "source": [
    "matches[\"Team\"]"
   ]
  },
  {
   "cell_type": "code",
   "execution_count": 40,
   "id": "909694bb-0949-411a-8bff-c67e51ee9c42",
   "metadata": {},
   "outputs": [
    {
     "data": {
      "text/plain": [
       "array(['ManchesterCity', 'Arsenal', 'Liverpool', 'AstonVilla',\n",
       "       'TottenhamHotspur', 'NewcastleUnited', 'Chelsea',\n",
       "       'ManchesterUnited', 'WestHamUnited', 'BrightonandHoveAlbion',\n",
       "       'Bournemouth', 'CrystalPalace', 'WolverhamptonWanderers', 'Fulham',\n",
       "       'Everton', 'Brentford', 'NottinghamForest', 'LutonTown', 'Burnley',\n",
       "       'SheffieldUnited'], dtype=object)"
      ]
     },
     "execution_count": 40,
     "metadata": {},
     "output_type": "execute_result"
    }
   ],
   "source": [
    "matches[\"Team\"].unique()"
   ]
  },
  {
   "cell_type": "code",
   "execution_count": 41,
   "id": "37dc83f5-072d-4bad-8f6a-eabe72791ce4",
   "metadata": {},
   "outputs": [
    {
     "data": {
      "text/plain": [
       "Team\n",
       "Bournemouth               37\n",
       "CrystalPalace             37\n",
       "Burnley                   37\n",
       "LutonTown                 37\n",
       "NottinghamForest          37\n",
       "Brentford                 37\n",
       "Everton                   37\n",
       "Fulham                    37\n",
       "WolverhamptonWanderers    37\n",
       "SheffieldUnited           37\n",
       "WestHamUnited             37\n",
       "Arsenal                   36\n",
       "BrightonandHoveAlbion     36\n",
       "Chelsea                   36\n",
       "NewcastleUnited           36\n",
       "TottenhamHotspur          36\n",
       "AstonVilla                36\n",
       "Liverpool                 36\n",
       "ManchesterCity            36\n",
       "ManchesterUnited          35\n",
       "Name: count, dtype: int64"
      ]
     },
     "execution_count": 41,
     "metadata": {},
     "output_type": "execute_result"
    }
   ],
   "source": [
    "matches[\"Team\"].value_counts()"
   ]
  },
  {
   "cell_type": "code",
   "execution_count": 42,
   "id": "de409edf-4619-4635-a6b6-74a553a059bf",
   "metadata": {},
   "outputs": [
    {
     "data": {
      "text/plain": [
       "Team\n",
       "Arsenal                   5.527778\n",
       "AstonVilla                4.861111\n",
       "Bournemouth               4.594595\n",
       "Brentford                 4.162162\n",
       "BrightonandHoveAlbion     5.388889\n",
       "Burnley                   3.621622\n",
       "Chelsea                   5.055556\n",
       "CrystalPalace             4.135135\n",
       "Everton                   4.054054\n",
       "Fulham                    4.513514\n",
       "Liverpool                 6.750000\n",
       "LutonTown                 3.486486\n",
       "ManchesterCity            6.888889\n",
       "ManchesterUnited          4.800000\n",
       "NewcastleUnited           5.055556\n",
       "NottinghamForest          3.702703\n",
       "SheffieldUnited           3.135135\n",
       "TottenhamHotspur          5.361111\n",
       "WestHamUnited             3.891892\n",
       "WolverhamptonWanderers    4.081081\n",
       "Name: SoT, dtype: float64"
      ]
     },
     "execution_count": 42,
     "metadata": {},
     "output_type": "execute_result"
    }
   ],
   "source": [
    "matches.groupby(\"Team\").SoT.mean()"
   ]
  },
  {
   "cell_type": "code",
   "execution_count": 43,
   "id": "63c6935e-978f-4341-bf43-f2cd37e73866",
   "metadata": {},
   "outputs": [
    {
     "ename": "TypeError",
     "evalue": "'bool' object is not callable",
     "output_type": "error",
     "traceback": [
      "\u001b[1;31m---------------------------------------------------------------------------\u001b[0m",
      "\u001b[1;31mTypeError\u001b[0m                                 Traceback (most recent call last)",
      "Cell \u001b[1;32mIn[43], line 1\u001b[0m\n\u001b[1;32m----> 1\u001b[0m matches\u001b[38;5;241m.\u001b[39mgroupby(\u001b[38;5;124m\"\u001b[39m\u001b[38;5;124mTeam\u001b[39m\u001b[38;5;124m\"\u001b[39m)\u001b[38;5;241m.\u001b[39msort()\n",
      "\u001b[1;31mTypeError\u001b[0m: 'bool' object is not callable"
     ]
    }
   ],
   "source": [
    "matches.groupby(\"Team\").sort()"
   ]
  },
  {
   "cell_type": "code",
   "execution_count": 44,
   "id": "c186db8a-761c-4dc8-856d-0390d58fea48",
   "metadata": {},
   "outputs": [
    {
     "data": {
      "image/png": "[encoded data removed]",
      "text/plain": [
       "<Figure size 640x480 with 1 Axes>"
      ]
     },
     "metadata": {},
     "output_type": "display_data"
    }
   ],
   "source": [
    "for type, group in matches.groupby(\"Team\"):\n",
    "    plt.hist(group.SoT, bins = 16, label = type)\n",
    "plt.legend(loc = \"right\", bbox_to_anchor = (1.5, 0.5))\n",
    "\n",
    "plt.xlabel(\"Shots on target\")\n",
    "plt.ylabel(\"times\")\n",
    "plt.show()"
   ]
  },
  {
   "cell_type": "code",
   "execution_count": 48,
   "id": "bcb42957-3d93-4a1a-9f37-90bbdcf9ebee",
   "metadata": {},
   "outputs": [
    {
     "data": {
      "image/png": "[encoded data removed]",
      "text/plain": [
       "<Figure size 640x480 with 1 Axes>"
      ]
     },
     "metadata": {},
     "output_type": "display_data"
    }
   ],
   "source": [
    "shots = matches[\"Sh\"]\n",
    "\n",
    "plt.hist(shots)\n",
    "plt.hist(sot)\n",
    "plt.show()"
   ]
  },
  {
   "cell_type": "code",
   "execution_count": 49,
   "id": "5264cb04-bbb8-45e9-b324-639baebad6c1",
   "metadata": {},
   "outputs": [
    {
     "data": {
      "text/plain": [
       "<matplotlib.collections.PathCollection at 0x2400a20d850>"
      ]
     },
     "execution_count": 49,
     "metadata": {},
     "output_type": "execute_result"
    },
    {
     "data": {
      "image/png": "[encoded data removed]",
      "text/plain": [
       "<Figure size 640x480 with 1 Axes>"
      ]
     },
     "metadata": {},
     "output_type": "display_data"
    }
   ],
   "source": [
    "plt.scatter(shots, sot)"
   ]
  },
  {
   "cell_type": "code",
   "execution_count": 76,
   "id": "4f60167e-f560-43cf-96d9-76a2d2b14449",
   "metadata": {},
   "outputs": [
    {
     "data": {
      "text/plain": [
       "array([[1.       , 0.7023701],\n",
       "       [0.7023701, 1.       ]])"
      ]
     },
     "execution_count": 76,
     "metadata": {},
     "output_type": "execute_result"
    }
   ],
   "source": [
    "np.corrcoef(shots, sot)"
   ]
  },
  {
   "cell_type": "code",
   "execution_count": 78,
   "id": "5fc14f39-539f-4993-b283-da1faef73df4",
   "metadata": {},
   "outputs": [
    {
     "data": {
      "text/plain": [
       "array([[36.0598756 , 11.08960295],\n",
       "       [11.08960295,  6.91314618]])"
      ]
     },
     "execution_count": 78,
     "metadata": {},
     "output_type": "execute_result"
    }
   ],
   "source": [
    "np.cov(shots, sot)"
   ]
  },
  {
   "cell_type": "code",
   "execution_count": null,
   "id": "06a1b4df-b59f-4103-9274-262246431c0c",
   "metadata": {},
   "outputs": [],
   "source": []
  }
 ],
 "metadata": {
  "kernelspec": {
   "display_name": "Python 3 (ipykernel)",
   "language": "python",
   "name": "python3"
  },
  "language_info": {
   "codemirror_mode": {
    "name": "ipython",
    "version": 3
   },
   "file_extension": ".py",
   "mimetype": "text/x-python",
   "name": "python",
   "nbconvert_exporter": "python",
   "pygments_lexer": "ipython3",
   "version": "3.11.7"
  }
 },
 "nbformat": 4,
 "nbformat_minor": 5
}

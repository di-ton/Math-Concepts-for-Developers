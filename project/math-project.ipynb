{
 "cells": [
  {
   "cell_type": "code",
   "execution_count": 89,
   "id": "fb545111-3d68-467f-a8da-cd9076b46b4a",
   "metadata": {},
   "outputs": [],
   "source": [
    "import numpy as np\n",
    "from scipy.spatial import cKDTree\n",
    "import pyvista as pv\n",
    "import matplotlib.pyplot as plt\n",
    "import mayavi\n",
    "import pandas as pd"
   ]
  },
  {
   "cell_type": "code",
   "execution_count": 8,
   "id": "3b89f71b-9e99-425d-bb14-eba94d569732",
   "metadata": {},
   "outputs": [],
   "source": [
    "# Load meshes (replace with your file paths)\n",
    "mesh1 = pv.read(\"C:\\\\Users\\\\diton\\\\Desktop\\\\skull_cut.stl\")\n",
    "mesh2 = pv.read(\"C:\\\\Users\\\\diton\\\\Desktop\\\\skin_cut.stl\")\n",
    "\n",
    "# Create k-d tree for mesh1\n",
    "tree = cKDTree(mesh1.points)\n",
    "\n",
    "# List to store distances\n",
    "distances = []\n",
    "\n",
    "# Iterate through vertices of mesh2 and find closest points\n",
    "for point in mesh2.points:\n",
    "    _, idx = tree.query(point)\n",
    "    closest_point = mesh1.points[idx]\n",
    "    distance = np.linalg.norm(point - closest_point)\n",
    "    distances.append(distance)"
   ]
  },
  {
   "cell_type": "code",
   "execution_count": 9,
   "id": "7d22c90b-2860-4f60-a579-54069b6cea46",
   "metadata": {},
   "outputs": [
    {
     "name": "stdout",
     "output_type": "stream",
     "text": [
      "Minimum distance: 1.7392804622650146\n",
      "Maximum distance: 27.277362823486328\n",
      "Average distance: 8.333407402038574\n"
     ]
    }
   ],
   "source": [
    "# Print minimum, maximum, and average distances\n",
    "print(f\"Minimum distance: {min(distances)}\")\n",
    "print(f\"Maximum distance: {max(distances)}\")\n",
    "print(f\"Average distance: {np.mean(distances)}\")"
   ]
  },
  {
   "cell_type": "code",
   "execution_count": 13,
   "id": "e5887621-76b1-44c7-a04f-49e98023ed72",
   "metadata": {},
   "outputs": [
    {
     "data": {
      "text/plain": [
       "(array([  833.,  8872., 10609.,  7546.,  6227.,  4781.,  7576.,  8020.,\n",
       "         6358.,  3871.,  2994.,  2636.,  2431.,  2176.,  1821.,  1585.,\n",
       "         2559.,  1824.,  1460.,   814.,   558.,   516.,   527.,   362.,\n",
       "          288.,   278.,   204.,   159.,    70.,    48.]),\n",
       " array([ 1.73928046,  2.59054995,  3.44181919,  4.29308891,  5.14435816,\n",
       "         5.9956274 ,  6.84689713,  7.69816637,  8.54943562,  9.40070534,\n",
       "        10.25197411, 11.10324383, 11.95451355, 12.80578327, 13.65705204,\n",
       "        14.50832176, 15.35959148, 16.21086121, 17.06212997, 17.91339874,\n",
       "        18.76466942, 19.61593819, 20.46720695, 21.31847763, 22.1697464 ,\n",
       "        23.02101517, 23.87228584, 24.72355461, 25.57482338, 26.42609406,\n",
       "        27.27736282]),\n",
       " <BarContainer object of 30 artists>)"
      ]
     },
     "execution_count": 13,
     "metadata": {},
     "output_type": "execute_result"
    },
    {
     "data": {
      "image/png": "[encoded data removed]",
      "text/plain": [
       "<Figure size 640x480 with 1 Axes>"
      ]
     },
     "metadata": {},
     "output_type": "display_data"
    }
   ],
   "source": [
    "plt.hist(distances, bins=30)"
   ]
  },
  {
   "cell_type": "code",
   "execution_count": 30,
   "id": "972b1f6d-3062-4f1b-95d1-5c691c7741dc",
   "metadata": {},
   "outputs": [
    {
     "name": "stdout",
     "output_type": "stream",
     "text": [
      "(147722, 3)\n",
      "(88003,)\n"
     ]
    }
   ],
   "source": [
    "distances_array = np.array(distances)\n",
    "# points_with_distance = np.reshape(mesh1.points, (-1, 3))\n",
    "points_with_distance = mesh1.points.copy()\n",
    "\n",
    "print(points_with_distance.shape)\n",
    "print(distances_array.shape)"
   ]
  },
  {
   "cell_type": "code",
   "execution_count": 81,
   "id": "a2b6f893-df77-481a-9b74-829c4ba69deb",
   "metadata": {},
   "outputs": [],
   "source": [
    "# Assuming 'mesh1' has points and 'distances_array' holds calculated distances\n",
    "filtered_points = []\n",
    "filtered_distances = []\n",
    "\n",
    "for i, distance in enumerate(distances_array):\n",
    "  if not np.isnan(distance):  # Check if distance is not NaN\n",
    "    filtered_points.append(mesh1.points[i])\n",
    "    filtered_distances.append(distance)\n",
    "      \n",
    "filtered_points_array = np.array(filtered_points)\n",
    "filtered_distances_array = np.array(filtered_distances)\n"
   ]
  },
  {
   "cell_type": "code",
   "execution_count": 82,
   "id": "a6fb31ea-c2e0-4e7b-912d-6adaebe771e2",
   "metadata": {},
   "outputs": [
    {
     "name": "stdout",
     "output_type": "stream",
     "text": [
      "(88003, 3)\n",
      "(88003,)\n",
      "(88003,)\n",
      "float32\n",
      "[pyvista_ndarray([ 12.181999, -55.791283, -31.22261 ], dtype=float32), pyvista_ndarray([ 12.07309 , -56.06076 , -31.318588], dtype=float32), pyvista_ndarray([ 12.107758, -55.95526 , -30.919739], dtype=float32), pyvista_ndarray([ 12.183731, -55.773193, -30.908478], dtype=float32), pyvista_ndarray([ 12.193764, -55.794403, -30.512009], dtype=float32)]\n"
     ]
    }
   ],
   "source": [
    "# # Convert filtered points and distances to NumPy arrays\n",
    "# filtered_points_array = [point[:3] for point in filtered_points]\n",
    "# filtered_points_array = np.array(filtered_points)\n",
    "\n",
    "selected_points = []\n",
    "for point in filtered_points:\n",
    "  selected_points.append([float(x) for x in point[:3]])  # Convert first 3 elements to floats\n",
    "filtered_points_array = np.array(selected_points)\n",
    "\n",
    "filtered_distances_array = np.array(filtered_distances)\n",
    "\n",
    "# Checking where is the problem!!! But it's not clear....\n",
    "print(filtered_points_array.shape)\n",
    "print(filtered_distances_array.shape)\n",
    "print(distances_array.shape)\n",
    "print(distances_array.dtype)\n",
    "print(filtered_points[:5])"
   ]
  },
  {
   "cell_type": "code",
   "execution_count": 65,
   "id": "123a3a6a-dc4f-49c9-9a4a-68a9656371e3",
   "metadata": {},
   "outputs": [
    {
     "name": "stdout",
     "output_type": "stream",
     "text": [
      "(88003, 3)\n",
      "(88003, 4)\n"
     ]
    }
   ],
   "source": [
    "print(filtered_points_array.shape)\n",
    "combined_array = np.hstack((filtered_points_array, distances_array[:, None]))\n",
    "print(combined_array.shape)"
   ]
  },
  {
   "cell_type": "code",
   "execution_count": 107,
   "id": "ac1ab643-1cf2-4115-b923-db6b2005e55b",
   "metadata": {},
   "outputs": [
    {
     "ename": "TypeError",
     "evalue": "object of type 'PolyData' has no len()",
     "output_type": "error",
     "traceback": [
      "\u001b[1;31m---------------------------------------------------------------------------\u001b[0m",
      "\u001b[1;31mTypeError\u001b[0m                                 Traceback (most recent call last)",
      "Cell \u001b[1;32mIn[107], line 5\u001b[0m\n\u001b[0;32m      1\u001b[0m \u001b[38;5;66;03m# Assuming filtered_points_array is a pandas DataFrame with columns for x, y, z\u001b[39;00m\n\u001b[0;32m      2\u001b[0m \n\u001b[0;32m      3\u001b[0m \u001b[38;5;66;03m# filtered_points_array = np.transpose(filtered_points_array)\u001b[39;00m\n\u001b[0;32m      4\u001b[0m points \u001b[38;5;241m=\u001b[39m pv\u001b[38;5;241m.\u001b[39mPolyData(np\u001b[38;5;241m.\u001b[39mtranspose(filtered_points_array))\n\u001b[1;32m----> 5\u001b[0m \u001b[38;5;28;01mif\u001b[39;00m \u001b[38;5;28mlen\u001b[39m(distances_array) \u001b[38;5;241m==\u001b[39m \u001b[38;5;28mlen\u001b[39m(points):  \u001b[38;5;66;03m# Check for matching lengths\u001b[39;00m\n\u001b[0;32m      6\u001b[0m     points\u001b[38;5;241m.\u001b[39mpoint_arrays[\u001b[38;5;124m\"\u001b[39m\u001b[38;5;124mdistances\u001b[39m\u001b[38;5;124m\"\u001b[39m] \u001b[38;5;241m=\u001b[39m distances_array\n\u001b[0;32m      7\u001b[0m \u001b[38;5;66;03m# Assuming filtered_points_array is a pandas DataFrame with columns for x, y, z\u001b[39;00m\n\u001b[0;32m      8\u001b[0m \u001b[38;5;66;03m# data = pd.DataFrame({\"x\": filtered_points_array[:, 0], \"y\": filtered_points_array[:, 1], \"z\": filtered_points_array[:, 2], \"distances\": distances_array})\u001b[39;00m\n\u001b[0;32m      9\u001b[0m \u001b[38;5;66;03m# points = pv.PolyData(data)  # Create PolyData from DataFrame\u001b[39;00m\n",
      "\u001b[1;31mTypeError\u001b[0m: object of type 'PolyData' has no len()"
     ]
    }
   ],
   "source": [
    "# Assuming filtered_points_array is a pandas DataFrame with columns for x, y, z\n",
    "\n",
    "# filtered_points_array = np.transpose(filtered_points_array)\n",
    "points = pv.PolyData(np.transpose(filtered_points_array))\n",
    "if len(distances_array) == len(points):  # Check for matching lengths\n",
    "    points.point_arrays[\"distances\"] = distances_array\n",
    "# Assuming filtered_points_array is a pandas DataFrame with columns for x, y, z\n",
    "# data = pd.DataFrame({\"x\": filtered_points_array[:, 0], \"y\": filtered_points_array[:, 1], \"z\": filtered_points_array[:, 2], \"distances\": distances_array})\n",
    "# points = pv.PolyData(data)  # Create PolyData from DataFrame\n",
    "plotter = pv.Plotter()\n",
    "plotter.add_mesh(points, scalars = \"distances\", cmap = \"plasma\")  # \"plasma\" colormap\n",
    "plotter.show()"
   ]
  },
  {
   "cell_type": "code",
   "execution_count": 75,
   "id": "fd646ce7-d387-428f-bf9d-9d248efaa27d",
   "metadata": {},
   "outputs": [
    {
     "name": "stdout",
     "output_type": "stream",
     "text": [
      "(3, 4)\n",
      "(3, 3)\n"
     ]
    }
   ],
   "source": [
    "# Just checking. Not to the project\n",
    "sample_points = np.array([[1, 2, 3], [4, 5, 6], [7, 8, 9]])  # Sample points\n",
    "sample_distances = np.array([10, 20, 30])  # Sample distances\n",
    "\n",
    "sliced_points_2 = sample_points[:, :3]  # Slice to get x, y, z\n",
    "combined_array = np.hstack((sliced_points_2, sample_distances[:, None]))\n",
    "\n",
    "print(combined_array.shape)\n",
    "print(sliced_points_2.shape)"
   ]
  },
  {
   "cell_type": "code",
   "execution_count": 57,
   "id": "1729c459-903f-4e29-a99f-42e86c8ed58c",
   "metadata": {},
   "outputs": [
    {
     "name": "stdout",
     "output_type": "stream",
     "text": [
      "Error creating PolyData: Points array must contain three values per point. Shape is (88003, 4) and should be (X, 3)\n"
     ]
    }
   ],
   "source": [
    "try:\n",
    "  mesh1_colored = pv.PolyData(np.hstack((filtered_points_array, distances_array[:, None])))\n",
    "except Exception as e:\n",
    "  print(f\"Error creating PolyData: {e}\")"
   ]
  },
  {
   "cell_type": "code",
   "execution_count": 72,
   "id": "8214874c-1f3a-4407-b58e-5edd22c1b251",
   "metadata": {},
   "outputs": [
    {
     "ename": "ValueError",
     "evalue": "Points array must contain three values per point. Shape is (88003, 4) and should be (X, 3)",
     "output_type": "error",
     "traceback": [
      "\u001b[1;31m---------------------------------------------------------------------------\u001b[0m",
      "\u001b[1;31mValueError\u001b[0m                                Traceback (most recent call last)",
      "Cell \u001b[1;32mIn[72], line 1\u001b[0m\n\u001b[1;32m----> 1\u001b[0m mesh1_colored \u001b[38;5;241m=\u001b[39m pv\u001b[38;5;241m.\u001b[39mPolyData(np\u001b[38;5;241m.\u001b[39mhstack((filtered_points_array, distances_array[:, \u001b[38;5;28;01mNone\u001b[39;00m])))\n\u001b[0;32m      3\u001b[0m \u001b[38;5;66;03m# Create a PolyData with the points and distances\u001b[39;00m\n\u001b[0;32m      4\u001b[0m mesh1_colored \u001b[38;5;241m=\u001b[39m pv\u001b[38;5;241m.\u001b[39mPolyData(points_with_distance)\n",
      "File \u001b[1;32m~\\anaconda3\\Lib\\site-packages\\pyvista\\core\\pointset.py:671\u001b[0m, in \u001b[0;36mPolyData.__init__\u001b[1;34m(self, var_inp, faces, n_faces, lines, n_lines, strips, n_strips, deep, force_ext, force_float, verts, n_verts)\u001b[0m\n\u001b[0;32m    669\u001b[0m \u001b[38;5;66;03m# First parameter is points\u001b[39;00m\n\u001b[0;32m    670\u001b[0m \u001b[38;5;28;01mif\u001b[39;00m \u001b[38;5;28misinstance\u001b[39m(var_inp, (np\u001b[38;5;241m.\u001b[39mndarray, \u001b[38;5;28mlist\u001b[39m, _vtk\u001b[38;5;241m.\u001b[39mvtkDataArray)):\n\u001b[1;32m--> 671\u001b[0m     \u001b[38;5;28mself\u001b[39m\u001b[38;5;241m.\u001b[39mSetPoints(vtk_points(var_inp, deep\u001b[38;5;241m=\u001b[39mdeep, force_float\u001b[38;5;241m=\u001b[39mforce_float))\n\u001b[0;32m    673\u001b[0m \u001b[38;5;28;01melse\u001b[39;00m:\n\u001b[0;32m    674\u001b[0m     msg \u001b[38;5;241m=\u001b[39m \u001b[38;5;124mf\u001b[39m\u001b[38;5;124m\"\"\"\u001b[39m\n\u001b[0;32m    675\u001b[0m \u001b[38;5;124m        Invalid Input type:\u001b[39m\n\u001b[0;32m    676\u001b[0m \n\u001b[1;32m   (...)\u001b[0m\n\u001b[0;32m    683\u001b[0m \n\u001b[0;32m    684\u001b[0m \u001b[38;5;124m        Instead got: \u001b[39m\u001b[38;5;132;01m{\u001b[39;00m\u001b[38;5;28mtype\u001b[39m(var_inp)\u001b[38;5;132;01m}\u001b[39;00m\u001b[38;5;124m\"\"\"\u001b[39m\n",
      "File \u001b[1;32m~\\anaconda3\\Lib\\site-packages\\pyvista\\core\\utilities\\points.py:68\u001b[0m, in \u001b[0;36mvtk_points\u001b[1;34m(points, deep, force_float)\u001b[0m\n\u001b[0;32m     66\u001b[0m \u001b[38;5;66;03m# verify shape\u001b[39;00m\n\u001b[0;32m     67\u001b[0m \u001b[38;5;28;01mif\u001b[39;00m points\u001b[38;5;241m.\u001b[39mshape[\u001b[38;5;241m1\u001b[39m] \u001b[38;5;241m!=\u001b[39m \u001b[38;5;241m3\u001b[39m:\n\u001b[1;32m---> 68\u001b[0m     \u001b[38;5;28;01mraise\u001b[39;00m \u001b[38;5;167;01mValueError\u001b[39;00m(\n\u001b[0;32m     69\u001b[0m         \u001b[38;5;124m'\u001b[39m\u001b[38;5;124mPoints array must contain three values per point. \u001b[39m\u001b[38;5;124m'\u001b[39m\n\u001b[0;32m     70\u001b[0m         \u001b[38;5;124mf\u001b[39m\u001b[38;5;124m'\u001b[39m\u001b[38;5;124mShape is \u001b[39m\u001b[38;5;132;01m{\u001b[39;00mpoints\u001b[38;5;241m.\u001b[39mshape\u001b[38;5;132;01m}\u001b[39;00m\u001b[38;5;124m and should be (X, 3)\u001b[39m\u001b[38;5;124m'\u001b[39m\n\u001b[0;32m     71\u001b[0m     )\n\u001b[0;32m     73\u001b[0m \u001b[38;5;66;03m# use the underlying vtk data if present to avoid memory leaks\u001b[39;00m\n\u001b[0;32m     74\u001b[0m \u001b[38;5;28;01mif\u001b[39;00m \u001b[38;5;129;01mnot\u001b[39;00m deep \u001b[38;5;129;01mand\u001b[39;00m \u001b[38;5;28misinstance\u001b[39m(points, pyvista\u001b[38;5;241m.\u001b[39mpyvista_ndarray):\n",
      "\u001b[1;31mValueError\u001b[0m: Points array must contain three values per point. Shape is (88003, 4) and should be (X, 3)"
     ]
    }
   ],
   "source": [
    "mesh1_colored = pv.PolyData(np.hstack((filtered_points_array, distances_array[:, None])))\n",
    "\n",
    "# Create a PolyData with the points and distances\n",
    "mesh1_colored = pv.PolyData(points_with_distance)\n",
    "\n",
    "# Color mapper for the distances\n",
    "mapper = pv.UniformColorMapping(scalar_range = (min(distances), max(distances)))\n",
    "mapper.auto_scalars = False  # Avoid automatic range scaling\n",
    "\n",
    "# Apply the color mapper and scalar field to mesh1\n",
    "mesh1_colored.scalars = distances_array\n",
    "mesh1_colored.color(mapper) \n",
    "\n",
    "# Plot both meshes with different colors\n",
    "plotter = pv.Plotter()\n",
    "plotter.add_mesh(mesh1, color = 'white')  # Original mesh in white\n",
    "plotter.add_mesh(mesh1_colored, cmap = mapper, show_scalar_bar = True, label = \"Distance to mesh2\")\n",
    "plotter.show()"
   ]
  },
  {
   "cell_type": "code",
   "execution_count": null,
   "id": "24e4735e-3c72-4ddd-ba71-1309c71974ad",
   "metadata": {},
   "outputs": [],
   "source": []
  }
 ],
 "metadata": {
  "kernelspec": {
   "display_name": "Python 3 (ipykernel)",
   "language": "python",
   "name": "python3"
  },
  "language_info": {
   "codemirror_mode": {
    "name": "ipython",
    "version": 3
   },
   "file_extension": ".py",
   "mimetype": "text/x-python",
   "name": "python",
   "nbconvert_exporter": "python",
   "pygments_lexer": "ipython3",
   "version": "3.11.7"
  }
 },
 "nbformat": 4,
 "nbformat_minor": 5
}

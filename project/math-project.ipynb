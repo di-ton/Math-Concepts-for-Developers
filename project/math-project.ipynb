{
 "cells": [
  {
   "cell_type": "code",
   "execution_count": 21,
   "id": "fb545111-3d68-467f-a8da-cd9076b46b4a",
   "metadata": {},
   "outputs": [],
   "source": [
    "import numpy as np\n",
    "from scipy.spatial import cKDTree\n",
    "import pyvista as pv\n",
    "import matplotlib.pyplot as plt\n",
    "import mayavi\n",
    "import pandas as pd\n",
    "import trimesh\n",
    "import pymesh\n"
   ]
  },
  {
   "cell_type": "code",
   "execution_count": 59,
   "id": "3b89f71b-9e99-425d-bb14-eba94d569732",
   "metadata": {},
   "outputs": [],
   "source": [
    "# Load meshes (replace with your file paths)\n",
    "mesh1 = pv.read(\"C:\\\\Users\\\\diton\\\\Desktop\\\\skull_cut.stl\")\n",
    "mesh2 = pv.read(\"C:\\\\Users\\\\diton\\\\Desktop\\\\skin_cut.stl\")\n",
    "\n",
    "# Create k-d tree for mesh1\n",
    "tree = cKDTree(mesh1.points)\n",
    "\n",
    "# List to store distances\n",
    "distances = []\n",
    "\n",
    "# Iterate through vertices of mesh2 and find closest points\n",
    "for point in mesh2.points:\n",
    "    _, idx = tree.query(point)\n",
    "    closest_point = mesh1.points[idx]\n",
    "    distance = np.linalg.norm(point - closest_point)\n",
    "    distances.append(distance)"
   ]
  },
  {
   "cell_type": "code",
   "execution_count": 60,
   "id": "7d22c90b-2860-4f60-a579-54069b6cea46",
   "metadata": {},
   "outputs": [
    {
     "name": "stdout",
     "output_type": "stream",
     "text": [
      "Minimum distance: 1.7392804622650146\n",
      "Maximum distance: 27.277362823486328\n",
      "Average distance: 8.333407402038574\n",
      "[11.285816, 11.319876, 11.577703, 11.553183, 11.69083, 11.803483, 12.018783, 12.015655, 12.222459, 12.015457]\n"
     ]
    }
   ],
   "source": [
    "# Print minimum, maximum, and average distances\n",
    "print(f\"Minimum distance: {min(distances)}\")\n",
    "print(f\"Maximum distance: {max(distances)}\")\n",
    "print(f\"Average distance: {np.mean(distances)}\")\n"
   ]
  },
  {
   "cell_type": "code",
   "execution_count": 61,
   "id": "ecd0fb11-5dee-440b-b59a-88683c9a7204",
   "metadata": {},
   "outputs": [],
   "source": [
    "interval_0_5 = []\n",
    "interval_5_10 = []\n",
    "interval_10_15 = []\n",
    "interval_15_20 = []\n",
    "interval_20_25 = []\n",
    "interval_25_30 = []\n",
    "interval_30_35 = []\n",
    "interval_35_40 = []\n",
    "interval_40m = []\n",
    "\n",
    "for value in range(len(distances)):\n",
    "    if 0 < value < 5:\n",
    "        interval_0_5.append(value)\n",
    "    elif 5 <= value < 10:\n",
    "        interval_5_10.append(value)\n",
    "    elif 10 <= value < 15:\n",
    "        interval_10_15.append(value)\n",
    "    elif 15 <= value < 20:\n",
    "        interval_15_20.append(value)\n",
    "    elif 20 <= value < 25:\n",
    "        interval_20_25.append(value)\n",
    "    elif 25 <= value < 30:\n",
    "        interval_25_30.append(value)\n",
    "    elif 30 <= value < 35:\n",
    "        interval_30_35.append(value)\n",
    "    elif 35 <= value < 40:\n",
    "        interval_35_40.append(value)\n",
    "    else:\n",
    "        interval_40m.append(value)\n"
   ]
  },
  {
   "cell_type": "code",
   "execution_count": 65,
   "id": "e29b4499-6aea-48ae-99cc-4b5ddf33f90a",
   "metadata": {},
   "outputs": [
    {
     "name": "stdout",
     "output_type": "stream",
     "text": [
      "Count: 4 Average distance: 2.5\n",
      "Count: 5\n",
      "Average distance: 7.0\n",
      "Count: 5\n",
      "Average distance: 12.0\n",
      "Count: 5\n",
      "Average distance: 17.0\n",
      "Count: 5\n",
      "Average distance: 22.0\n",
      "Count: 5\n",
      "Average distance: 27.0\n",
      "Count: 5\n",
      "Average distance: 32.0\n",
      "Count: 5\n",
      "Average distance: 37.0\n",
      "Count: 87964\n",
      "Average distance: 44020.49955663681\n"
     ]
    },
    {
     "data": {
      "text/plain": [
       "(None, None)"
      ]
     },
     "execution_count": 65,
     "metadata": {},
     "output_type": "execute_result"
    }
   ],
   "source": [
    "print(f\"Count: {len(interval_0_5)} Average distance: {np.mean(interval_0_5)}\")\n",
    "print(f\"Count: {len(interval_5_10)}\"), print(f\"Average distance: {np.mean(interval_5_10)}\")\n",
    "print(f\"Count: {len(interval_10_15)}\"), print(f\"Average distance: {np.mean(interval_10_15)}\")\n",
    "print(f\"Count: {len(interval_15_20)}\"), print(f\"Average distance: {np.mean(interval_15_20)}\")\n",
    "print(f\"Count: {len(interval_20_25)}\"), print(f\"Average distance: {np.mean(interval_20_25)}\")\n",
    "print(f\"Count: {len(interval_25_30)}\"), print(f\"Average distance: {np.mean(interval_25_30)}\")\n",
    "print(f\"Count: {len(interval_30_35)}\"), print(f\"Average distance: {np.mean(interval_30_35)}\")\n",
    "print(f\"Count: {len(interval_35_40)}\"), print(f\"Average distance: {np.mean(interval_35_40)}\")\n",
    "print(f\"Count: {len(interval_40m)}\"), print(f\"Average distance: {np.mean(interval_40m)}\")"
   ]
  },
  {
   "cell_type": "code",
   "execution_count": 47,
   "id": "e5887621-76b1-44c7-a04f-49e98023ed72",
   "metadata": {},
   "outputs": [
    {
     "data": {
      "text/plain": [
       "(array([    0.,     0.,     0.,     0.,     0.,     0.,     0.,     0.,\n",
       "            0.,     0.,     0.,     0.,     0.,     0.,     0., 35015.,\n",
       "            0.,     0.,     0.,     0.,     0.,     0.,     0.,     0.,\n",
       "            0.,     0.,     0.,     0.,     0.,     0.]),\n",
       " array([-0.5       , -0.46666667, -0.43333334, -0.40000001, -0.36666667,\n",
       "        -0.33333334, -0.30000001, -0.26666668, -0.23333333, -0.2       ,\n",
       "        -0.16666667, -0.13333334, -0.1       , -0.06666667, -0.03333334,\n",
       "         0.        ,  0.03333334,  0.06666667,  0.1       ,  0.13333334,\n",
       "         0.16666667,  0.2       ,  0.23333333,  0.26666668,  0.30000001,\n",
       "         0.33333334,  0.36666667,  0.40000001,  0.43333334,  0.46666667,\n",
       "         0.5       ]),\n",
       " <BarContainer object of 30 artists>)"
      ]
     },
     "execution_count": 47,
     "metadata": {},
     "output_type": "execute_result"
    },
    {
     "data": {
      "image/png": "[encoded data removed]",
      "text/plain": [
       "<Figure size 640x480 with 1 Axes>"
      ]
     },
     "metadata": {},
     "output_type": "display_data"
    }
   ],
   "source": [
    "plt.hist(distances, bins=30)"
   ]
  },
  {
   "cell_type": "code",
   "execution_count": 25,
   "id": "972b1f6d-3062-4f1b-95d1-5c691c7741dc",
   "metadata": {},
   "outputs": [
    {
     "name": "stdout",
     "output_type": "stream",
     "text": [
      "(147722, 3)\n",
      "(88003,)\n"
     ]
    }
   ],
   "source": [
    "distances_array = np.array(distances)\n",
    "# points_with_distance = np.reshape(mesh1.points, (-1, 3))\n",
    "points_with_distance = mesh1.points.copy()\n",
    "\n",
    "print(points_with_distance.shape)\n",
    "print(distances_array.shape)"
   ]
  },
  {
   "cell_type": "code",
   "execution_count": 26,
   "id": "a2b6f893-df77-481a-9b74-829c4ba69deb",
   "metadata": {},
   "outputs": [],
   "source": [
    "# Assuming 'mesh1' has points and 'distances_array' holds calculated distances\n",
    "filtered_points = []\n",
    "filtered_distances = []\n",
    "\n",
    "for i, distance in enumerate(distances_array):\n",
    "  if not np.isnan(distance):  # Check if distance is not NaN\n",
    "    filtered_points.append(mesh1.points[i])\n",
    "    filtered_distances.append(distance)\n",
    "      \n",
    "filtered_points_array = np.array(filtered_points)\n",
    "filtered_distances_array = np.array(filtered_distances)\n"
   ]
  },
  {
   "cell_type": "code",
   "execution_count": 27,
   "id": "a6fb31ea-c2e0-4e7b-912d-6adaebe771e2",
   "metadata": {},
   "outputs": [
    {
     "name": "stdout",
     "output_type": "stream",
     "text": [
      "(88003, 3)\n",
      "(88003,)\n",
      "(88003,)\n",
      "float32\n",
      "[pyvista_ndarray([ 12.181999, -55.791283, -31.22261 ], dtype=float32), pyvista_ndarray([ 12.07309 , -56.06076 , -31.318588], dtype=float32), pyvista_ndarray([ 12.107758, -55.95526 , -30.919739], dtype=float32), pyvista_ndarray([ 12.183731, -55.773193, -30.908478], dtype=float32), pyvista_ndarray([ 12.193764, -55.794403, -30.512009], dtype=float32)]\n"
     ]
    }
   ],
   "source": [
    "# # Convert filtered points and distances to NumPy arrays\n",
    "# filtered_points_array = [point[:3] for point in filtered_points]\n",
    "# filtered_points_array = np.array(filtered_points)\n",
    "\n",
    "selected_points = []\n",
    "for point in filtered_points:\n",
    "  selected_points.append([float(x) for x in point[:3]])  # Convert first 3 elements to floats\n",
    "filtered_points_array = np.array(selected_points)\n",
    "\n",
    "filtered_distances_array = np.array(filtered_distances)\n",
    "\n",
    "# Checking where is the problem!!! But it's not clear....\n",
    "print(filtered_points_array.shape)\n",
    "print(filtered_distances_array.shape)\n",
    "print(distances_array.shape)\n",
    "print(distances_array.dtype)\n",
    "print(filtered_points[:5])"
   ]
  },
  {
   "cell_type": "code",
   "execution_count": 28,
   "id": "123a3a6a-dc4f-49c9-9a4a-68a9656371e3",
   "metadata": {},
   "outputs": [
    {
     "name": "stdout",
     "output_type": "stream",
     "text": [
      "(88003, 3)\n",
      "(88003, 4)\n"
     ]
    }
   ],
   "source": [
    "print(filtered_points_array.shape)\n",
    "combined_array = np.hstack((filtered_points_array, distances_array[:, None]))\n",
    "print(combined_array.shape)"
   ]
  },
  {
   "cell_type": "code",
   "execution_count": 29,
   "id": "ac1ab643-1cf2-4115-b923-db6b2005e55b",
   "metadata": {},
   "outputs": [
    {
     "ename": "ValueError",
     "evalue": "Points array must contain three values per point. Shape is (3, 88003) and should be (X, 3)",
     "output_type": "error",
     "traceback": [
      "\u001b[1;31m---------------------------------------------------------------------------\u001b[0m",
      "\u001b[1;31mValueError\u001b[0m                                Traceback (most recent call last)",
      "Cell \u001b[1;32mIn[29], line 4\u001b[0m\n\u001b[0;32m      1\u001b[0m \u001b[38;5;66;03m# Assuming filtered_points_array is a pandas DataFrame with columns for x, y, z\u001b[39;00m\n\u001b[0;32m      2\u001b[0m \n\u001b[0;32m      3\u001b[0m \u001b[38;5;66;03m# filtered_points_array = np.transpose(filtered_points_array)\u001b[39;00m\n\u001b[1;32m----> 4\u001b[0m points \u001b[38;5;241m=\u001b[39m pv\u001b[38;5;241m.\u001b[39mPolyData(np\u001b[38;5;241m.\u001b[39mtranspose(filtered_points_array))\n\u001b[0;32m      5\u001b[0m \u001b[38;5;28;01mif\u001b[39;00m \u001b[38;5;28mlen\u001b[39m(distances_array) \u001b[38;5;241m==\u001b[39m \u001b[38;5;28mlen\u001b[39m(points):  \u001b[38;5;66;03m# Check for matching lengths\u001b[39;00m\n\u001b[0;32m      6\u001b[0m     points\u001b[38;5;241m.\u001b[39mpoint_arrays[\u001b[38;5;124m\"\u001b[39m\u001b[38;5;124mdistances\u001b[39m\u001b[38;5;124m\"\u001b[39m] \u001b[38;5;241m=\u001b[39m distances_array\n",
      "File \u001b[1;32m~\\anaconda3\\Lib\\site-packages\\pyvista\\core\\pointset.py:671\u001b[0m, in \u001b[0;36mPolyData.__init__\u001b[1;34m(self, var_inp, faces, n_faces, lines, n_lines, strips, n_strips, deep, force_ext, force_float, verts, n_verts)\u001b[0m\n\u001b[0;32m    669\u001b[0m \u001b[38;5;66;03m# First parameter is points\u001b[39;00m\n\u001b[0;32m    670\u001b[0m \u001b[38;5;28;01mif\u001b[39;00m \u001b[38;5;28misinstance\u001b[39m(var_inp, (np\u001b[38;5;241m.\u001b[39mndarray, \u001b[38;5;28mlist\u001b[39m, _vtk\u001b[38;5;241m.\u001b[39mvtkDataArray)):\n\u001b[1;32m--> 671\u001b[0m     \u001b[38;5;28mself\u001b[39m\u001b[38;5;241m.\u001b[39mSetPoints(vtk_points(var_inp, deep\u001b[38;5;241m=\u001b[39mdeep, force_float\u001b[38;5;241m=\u001b[39mforce_float))\n\u001b[0;32m    673\u001b[0m \u001b[38;5;28;01melse\u001b[39;00m:\n\u001b[0;32m    674\u001b[0m     msg \u001b[38;5;241m=\u001b[39m \u001b[38;5;124mf\u001b[39m\u001b[38;5;124m\"\"\"\u001b[39m\n\u001b[0;32m    675\u001b[0m \u001b[38;5;124m        Invalid Input type:\u001b[39m\n\u001b[0;32m    676\u001b[0m \n\u001b[1;32m   (...)\u001b[0m\n\u001b[0;32m    683\u001b[0m \n\u001b[0;32m    684\u001b[0m \u001b[38;5;124m        Instead got: \u001b[39m\u001b[38;5;132;01m{\u001b[39;00m\u001b[38;5;28mtype\u001b[39m(var_inp)\u001b[38;5;132;01m}\u001b[39;00m\u001b[38;5;124m\"\"\"\u001b[39m\n",
      "File \u001b[1;32m~\\anaconda3\\Lib\\site-packages\\pyvista\\core\\utilities\\points.py:68\u001b[0m, in \u001b[0;36mvtk_points\u001b[1;34m(points, deep, force_float)\u001b[0m\n\u001b[0;32m     66\u001b[0m \u001b[38;5;66;03m# verify shape\u001b[39;00m\n\u001b[0;32m     67\u001b[0m \u001b[38;5;28;01mif\u001b[39;00m points\u001b[38;5;241m.\u001b[39mshape[\u001b[38;5;241m1\u001b[39m] \u001b[38;5;241m!=\u001b[39m \u001b[38;5;241m3\u001b[39m:\n\u001b[1;32m---> 68\u001b[0m     \u001b[38;5;28;01mraise\u001b[39;00m \u001b[38;5;167;01mValueError\u001b[39;00m(\n\u001b[0;32m     69\u001b[0m         \u001b[38;5;124m'\u001b[39m\u001b[38;5;124mPoints array must contain three values per point. \u001b[39m\u001b[38;5;124m'\u001b[39m\n\u001b[0;32m     70\u001b[0m         \u001b[38;5;124mf\u001b[39m\u001b[38;5;124m'\u001b[39m\u001b[38;5;124mShape is \u001b[39m\u001b[38;5;132;01m{\u001b[39;00mpoints\u001b[38;5;241m.\u001b[39mshape\u001b[38;5;132;01m}\u001b[39;00m\u001b[38;5;124m and should be (X, 3)\u001b[39m\u001b[38;5;124m'\u001b[39m\n\u001b[0;32m     71\u001b[0m     )\n\u001b[0;32m     73\u001b[0m \u001b[38;5;66;03m# use the underlying vtk data if present to avoid memory leaks\u001b[39;00m\n\u001b[0;32m     74\u001b[0m \u001b[38;5;28;01mif\u001b[39;00m \u001b[38;5;129;01mnot\u001b[39;00m deep \u001b[38;5;129;01mand\u001b[39;00m \u001b[38;5;28misinstance\u001b[39m(points, pyvista\u001b[38;5;241m.\u001b[39mpyvista_ndarray):\n",
      "\u001b[1;31mValueError\u001b[0m: Points array must contain three values per point. Shape is (3, 88003) and should be (X, 3)"
     ]
    }
   ],
   "source": [
    "# Assuming filtered_points_array is a pandas DataFrame with columns for x, y, z\n",
    "\n",
    "# filtered_points_array = np.transpose(filtered_points_array)\n",
    "points = pv.PolyData(np.transpose(filtered_points_array))\n",
    "if len(distances_array) == len(points):  # Check for matching lengths\n",
    "    points.point_arrays[\"distances\"] = distances_array\n",
    "# Assuming filtered_points_array is a pandas DataFrame with columns for x, y, z\n",
    "# data = pd.DataFrame({\"x\": filtered_points_array[:, 0], \"y\": filtered_points_array[:, 1], \"z\": filtered_points_array[:, 2], \"distances\": distances_array})\n",
    "# points = pv.PolyData(data)  # Create PolyData from DataFrame\n",
    "plotter = pv.Plotter()\n",
    "plotter.add_mesh(points, scalars = \"distances\", cmap = \"plasma\")  # \"plasma\" colormap\n",
    "plotter.show()"
   ]
  },
  {
   "cell_type": "code",
   "execution_count": 30,
   "id": "fd646ce7-d387-428f-bf9d-9d248efaa27d",
   "metadata": {},
   "outputs": [
    {
     "name": "stdout",
     "output_type": "stream",
     "text": [
      "(3, 4)\n",
      "(3, 3)\n"
     ]
    }
   ],
   "source": [
    "# Just checking. Not to the project\n",
    "sample_points = np.array([[1, 2, 3], [4, 5, 6], [7, 8, 9]])  # Sample points\n",
    "sample_distances = np.array([10, 20, 30])  # Sample distances\n",
    "\n",
    "sliced_points_2 = sample_points[:, :3]  # Slice to get x, y, z\n",
    "combined_array = np.hstack((sliced_points_2, sample_distances[:, None]))\n",
    "\n",
    "print(combined_array.shape)\n",
    "print(sliced_points_2.shape)"
   ]
  },
  {
   "cell_type": "code",
   "execution_count": 32,
   "id": "1729c459-903f-4e29-a99f-42e86c8ed58c",
   "metadata": {},
   "outputs": [
    {
     "name": "stdout",
     "output_type": "stream",
     "text": [
      "Error creating PolyData: Points array must contain three values per point. Shape is (88003, 4) and should be (X, 3)\n"
     ]
    }
   ],
   "source": [
    "try:\n",
    "  mesh1_colored = pv.PolyData(np.hstack((filtered_points_array, distances_array[:, None])))\n",
    "except Exception as e:\n",
    "  print(f\"Error creating PolyData: {e}\")"
   ]
  },
  {
   "cell_type": "code",
   "execution_count": 33,
   "id": "8214874c-1f3a-4407-b58e-5edd22c1b251",
   "metadata": {},
   "outputs": [
    {
     "ename": "ValueError",
     "evalue": "Points array must contain three values per point. Shape is (88003, 4) and should be (X, 3)",
     "output_type": "error",
     "traceback": [
      "\u001b[1;31m---------------------------------------------------------------------------\u001b[0m",
      "\u001b[1;31mValueError\u001b[0m                                Traceback (most recent call last)",
      "Cell \u001b[1;32mIn[33], line 1\u001b[0m\n\u001b[1;32m----> 1\u001b[0m mesh1_colored \u001b[38;5;241m=\u001b[39m pv\u001b[38;5;241m.\u001b[39mPolyData(np\u001b[38;5;241m.\u001b[39mhstack((filtered_points_array, distances_array[:, \u001b[38;5;28;01mNone\u001b[39;00m])))\n\u001b[0;32m      3\u001b[0m \u001b[38;5;66;03m# Create a PolyData with the points and distances\u001b[39;00m\n\u001b[0;32m      4\u001b[0m mesh1_colored \u001b[38;5;241m=\u001b[39m pv\u001b[38;5;241m.\u001b[39mPolyData(points_with_distance)\n",
      "File \u001b[1;32m~\\anaconda3\\Lib\\site-packages\\pyvista\\core\\pointset.py:671\u001b[0m, in \u001b[0;36mPolyData.__init__\u001b[1;34m(self, var_inp, faces, n_faces, lines, n_lines, strips, n_strips, deep, force_ext, force_float, verts, n_verts)\u001b[0m\n\u001b[0;32m    669\u001b[0m \u001b[38;5;66;03m# First parameter is points\u001b[39;00m\n\u001b[0;32m    670\u001b[0m \u001b[38;5;28;01mif\u001b[39;00m \u001b[38;5;28misinstance\u001b[39m(var_inp, (np\u001b[38;5;241m.\u001b[39mndarray, \u001b[38;5;28mlist\u001b[39m, _vtk\u001b[38;5;241m.\u001b[39mvtkDataArray)):\n\u001b[1;32m--> 671\u001b[0m     \u001b[38;5;28mself\u001b[39m\u001b[38;5;241m.\u001b[39mSetPoints(vtk_points(var_inp, deep\u001b[38;5;241m=\u001b[39mdeep, force_float\u001b[38;5;241m=\u001b[39mforce_float))\n\u001b[0;32m    673\u001b[0m \u001b[38;5;28;01melse\u001b[39;00m:\n\u001b[0;32m    674\u001b[0m     msg \u001b[38;5;241m=\u001b[39m \u001b[38;5;124mf\u001b[39m\u001b[38;5;124m\"\"\"\u001b[39m\n\u001b[0;32m    675\u001b[0m \u001b[38;5;124m        Invalid Input type:\u001b[39m\n\u001b[0;32m    676\u001b[0m \n\u001b[1;32m   (...)\u001b[0m\n\u001b[0;32m    683\u001b[0m \n\u001b[0;32m    684\u001b[0m \u001b[38;5;124m        Instead got: \u001b[39m\u001b[38;5;132;01m{\u001b[39;00m\u001b[38;5;28mtype\u001b[39m(var_inp)\u001b[38;5;132;01m}\u001b[39;00m\u001b[38;5;124m\"\"\"\u001b[39m\n",
      "File \u001b[1;32m~\\anaconda3\\Lib\\site-packages\\pyvista\\core\\utilities\\points.py:68\u001b[0m, in \u001b[0;36mvtk_points\u001b[1;34m(points, deep, force_float)\u001b[0m\n\u001b[0;32m     66\u001b[0m \u001b[38;5;66;03m# verify shape\u001b[39;00m\n\u001b[0;32m     67\u001b[0m \u001b[38;5;28;01mif\u001b[39;00m points\u001b[38;5;241m.\u001b[39mshape[\u001b[38;5;241m1\u001b[39m] \u001b[38;5;241m!=\u001b[39m \u001b[38;5;241m3\u001b[39m:\n\u001b[1;32m---> 68\u001b[0m     \u001b[38;5;28;01mraise\u001b[39;00m \u001b[38;5;167;01mValueError\u001b[39;00m(\n\u001b[0;32m     69\u001b[0m         \u001b[38;5;124m'\u001b[39m\u001b[38;5;124mPoints array must contain three values per point. \u001b[39m\u001b[38;5;124m'\u001b[39m\n\u001b[0;32m     70\u001b[0m         \u001b[38;5;124mf\u001b[39m\u001b[38;5;124m'\u001b[39m\u001b[38;5;124mShape is \u001b[39m\u001b[38;5;132;01m{\u001b[39;00mpoints\u001b[38;5;241m.\u001b[39mshape\u001b[38;5;132;01m}\u001b[39;00m\u001b[38;5;124m and should be (X, 3)\u001b[39m\u001b[38;5;124m'\u001b[39m\n\u001b[0;32m     71\u001b[0m     )\n\u001b[0;32m     73\u001b[0m \u001b[38;5;66;03m# use the underlying vtk data if present to avoid memory leaks\u001b[39;00m\n\u001b[0;32m     74\u001b[0m \u001b[38;5;28;01mif\u001b[39;00m \u001b[38;5;129;01mnot\u001b[39;00m deep \u001b[38;5;129;01mand\u001b[39;00m \u001b[38;5;28misinstance\u001b[39m(points, pyvista\u001b[38;5;241m.\u001b[39mpyvista_ndarray):\n",
      "\u001b[1;31mValueError\u001b[0m: Points array must contain three values per point. Shape is (88003, 4) and should be (X, 3)"
     ]
    }
   ],
   "source": [
    "mesh1_colored = pv.PolyData(np.hstack((filtered_points_array, distances_array[:, None])))\n",
    "\n",
    "# Create a PolyData with the points and distances\n",
    "mesh1_colored = pv.PolyData(points_with_distance)\n",
    "\n",
    "# Color mapper for the distances\n",
    "mapper = pv.UniformColorMapping(scalar_range = (min(distances), max(distances)))\n",
    "mapper.auto_scalars = False  # Avoid automatic range scaling\n",
    "\n",
    "# Apply the color mapper and scalar field to mesh1\n",
    "mesh1_colored.scalars = distances_array\n",
    "mesh1_colored.color(mapper) \n",
    "\n",
    "# Plot both meshes with different colors\n",
    "plotter = pv.Plotter()\n",
    "plotter.add_mesh(mesh1, color = 'white')  # Original mesh in white\n",
    "plotter.add_mesh(mesh1_colored, cmap = mapper, show_scalar_bar = True, label = \"Distance to mesh2\")\n",
    "plotter.show()"
   ]
  },
  {
   "cell_type": "code",
   "execution_count": 36,
   "id": "24e4735e-3c72-4ddd-ba71-1309c71974ad",
   "metadata": {},
   "outputs": [
    {
     "ename": "KeyboardInterrupt",
     "evalue": "",
     "output_type": "error",
     "traceback": [
      "\u001b[1;31m---------------------------------------------------------------------------\u001b[0m",
      "\u001b[1;31mKeyboardInterrupt\u001b[0m                         Traceback (most recent call last)",
      "Cell \u001b[1;32mIn[36], line 8\u001b[0m\n\u001b[0;32m      5\u001b[0m \u001b[38;5;28;01mfor\u001b[39;00m point_id \u001b[38;5;129;01min\u001b[39;00m \u001b[38;5;28mrange\u001b[39m(\u001b[38;5;28mlen\u001b[39m(mesh1\u001b[38;5;241m.\u001b[39mpoints)):\n\u001b[0;32m      6\u001b[0m     \u001b[38;5;66;03m# Get vertex and normal from mesh1\u001b[39;00m\n\u001b[0;32m      7\u001b[0m     vertex \u001b[38;5;241m=\u001b[39m mesh1\u001b[38;5;241m.\u001b[39mpoints[point_id]\n\u001b[1;32m----> 8\u001b[0m     normal \u001b[38;5;241m=\u001b[39m mesh1\u001b[38;5;241m.\u001b[39mpoint_normals[point_id]\n\u001b[0;32m     10\u001b[0m     \u001b[38;5;66;03m# Create a ray starting at vertex, extending in negative normal direction\u001b[39;00m\n\u001b[0;32m     11\u001b[0m     ray_start \u001b[38;5;241m=\u001b[39m vertex\n",
      "File \u001b[1;32m~\\anaconda3\\Lib\\site-packages\\pyvista\\core\\pointset.py:1325\u001b[0m, in \u001b[0;36mPolyData.point_normals\u001b[1;34m(self)\u001b[0m\n\u001b[0;32m   1323\u001b[0m     normals \u001b[38;5;241m=\u001b[39m \u001b[38;5;28mself\u001b[39m\u001b[38;5;241m.\u001b[39mpoint_data\u001b[38;5;241m.\u001b[39mactive_normals\n\u001b[0;32m   1324\u001b[0m \u001b[38;5;28;01melse\u001b[39;00m:\n\u001b[1;32m-> 1325\u001b[0m     normals \u001b[38;5;241m=\u001b[39m \u001b[38;5;28mself\u001b[39m\u001b[38;5;241m.\u001b[39mcompute_normals(cell_normals\u001b[38;5;241m=\u001b[39m\u001b[38;5;28;01mFalse\u001b[39;00m, inplace\u001b[38;5;241m=\u001b[39m\u001b[38;5;28;01mFalse\u001b[39;00m)\u001b[38;5;241m.\u001b[39mpoint_data[\u001b[38;5;124m'\u001b[39m\u001b[38;5;124mNormals\u001b[39m\u001b[38;5;124m'\u001b[39m]\n\u001b[0;32m   1326\u001b[0m \u001b[38;5;28;01mreturn\u001b[39;00m normals\n",
      "File \u001b[1;32m~\\anaconda3\\Lib\\site-packages\\pyvista\\core\\filters\\poly_data.py:1701\u001b[0m, in \u001b[0;36mPolyDataFilters.compute_normals\u001b[1;34m(self, cell_normals, point_normals, split_vertices, flip_normals, consistent_normals, auto_orient_normals, non_manifold_traversal, feature_angle, inplace, progress_bar)\u001b[0m\n\u001b[0;32m   1698\u001b[0m normal\u001b[38;5;241m.\u001b[39mSetInputData(\u001b[38;5;28mself\u001b[39m)\n\u001b[0;32m   1699\u001b[0m _update_alg(normal, progress_bar, \u001b[38;5;124m'\u001b[39m\u001b[38;5;124mComputing Normals\u001b[39m\u001b[38;5;124m'\u001b[39m)\n\u001b[1;32m-> 1701\u001b[0m mesh \u001b[38;5;241m=\u001b[39m _get_output(normal)\n\u001b[0;32m   1702\u001b[0m \u001b[38;5;28;01mif\u001b[39;00m point_normals:\n\u001b[0;32m   1703\u001b[0m     mesh\u001b[38;5;241m.\u001b[39mGetPointData()\u001b[38;5;241m.\u001b[39mSetActiveNormals(\u001b[38;5;124m'\u001b[39m\u001b[38;5;124mNormals\u001b[39m\u001b[38;5;124m'\u001b[39m)\n",
      "File \u001b[1;32m~\\anaconda3\\Lib\\site-packages\\pyvista\\core\\filters\\__init__.py:41\u001b[0m, in \u001b[0;36m_get_output\u001b[1;34m(algorithm, iport, iconnection, oport, active_scalars, active_scalars_field)\u001b[0m\n\u001b[0;32m     37\u001b[0m     \u001b[38;5;28;01melse\u001b[39;00m:\n\u001b[0;32m     38\u001b[0m         alg\u001b[38;5;241m.\u001b[39mUpdate()\n\u001b[1;32m---> 41\u001b[0m \u001b[38;5;28;01mdef\u001b[39;00m \u001b[38;5;21m_get_output\u001b[39m(\n\u001b[0;32m     42\u001b[0m     algorithm, iport\u001b[38;5;241m=\u001b[39m\u001b[38;5;241m0\u001b[39m, iconnection\u001b[38;5;241m=\u001b[39m\u001b[38;5;241m0\u001b[39m, oport\u001b[38;5;241m=\u001b[39m\u001b[38;5;241m0\u001b[39m, active_scalars\u001b[38;5;241m=\u001b[39m\u001b[38;5;28;01mNone\u001b[39;00m, active_scalars_field\u001b[38;5;241m=\u001b[39m\u001b[38;5;124m'\u001b[39m\u001b[38;5;124mpoint\u001b[39m\u001b[38;5;124m'\u001b[39m\n\u001b[0;32m     43\u001b[0m ):\n\u001b[0;32m     44\u001b[0m \u001b[38;5;250m    \u001b[39m\u001b[38;5;124;03m\"\"\"Get the algorithm's output and copy input's pyvista meta info.\"\"\"\u001b[39;00m\n\u001b[0;32m     45\u001b[0m     ido \u001b[38;5;241m=\u001b[39m wrap(algorithm\u001b[38;5;241m.\u001b[39mGetInputDataObject(iport, iconnection))\n",
      "\u001b[1;31mKeyboardInterrupt\u001b[0m: "
     ]
    }
   ],
   "source": [
    "# Second approach for calculating the mesh-to-mesh distances \n",
    "\n",
    "distances = []  # Store distances between each mesh1 vertex and mesh2\n",
    "\n",
    "for point_id in range(len(mesh1.points)):\n",
    "    # Get vertex and normal from mesh1\n",
    "    vertex = mesh1.points[point_id]\n",
    "    normal = mesh1.point_normals[point_id]\n",
    "\n",
    "    # Create a ray starting at vertex, extending in negative normal direction\n",
    "    ray_start = vertex\n",
    "    ray_end = vertex - 0.1 * normal  # Adjust length as needed\n",
    "\n",
    "    # Perform ray trace and check for intersection with mesh2\n",
    "    # This returns a list of intersections (might have multiple)\n",
    "    intersections = mesh2.ray_trace(ray_start, ray_end)\n",
    "\n",
    "    # Find the first intersection point (modify for multiple intersections)\n",
    "    if len(intersections) > 0:\n",
    "        intersection = intersections[0]  # Assuming the first intersection is relevant\n",
    "        distance = np.linalg.norm(vertex - intersection)\n",
    "        distances.append(distance)\n"
   ]
  },
  {
   "cell_type": "code",
   "execution_count": null,
   "id": "bb9b03e8-3060-4b96-a966-75f712671e41",
   "metadata": {},
   "outputs": [],
   "source": [
    "# Print minimum, maximum, and average distances from the second approach\n",
    "print(f\"Minimum distance: {min(distances)}\")\n",
    "print(f\"Maximum distance: {max(distances)}\")\n",
    "print(f\"Average distance: {np.mean(distances)}\")"
   ]
  },
  {
   "cell_type": "code",
   "execution_count": null,
   "id": "1c108258-448d-497c-8315-6aecaaf99729",
   "metadata": {},
   "outputs": [],
   "source": [
    "plt.hist(distances, bins=30)"
   ]
  }
 ],
 "metadata": {
  "kernelspec": {
   "display_name": "Python 3 (ipykernel)",
   "language": "python",
   "name": "python3"
  },
  "language_info": {
   "codemirror_mode": {
    "name": "ipython",
    "version": 3
   },
   "file_extension": ".py",
   "mimetype": "text/x-python",
   "name": "python",
   "nbconvert_exporter": "python",
   "pygments_lexer": "ipython3",
   "version": "3.11.7"
  }
 },
 "nbformat": 4,
 "nbformat_minor": 5
}

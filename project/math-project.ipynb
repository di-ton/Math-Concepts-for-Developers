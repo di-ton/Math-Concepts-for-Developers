{
 "cells": [
  {
   "cell_type": "code",
   "execution_count": 153,
   "id": "fb545111-3d68-467f-a8da-cd9076b46b4a",
   "metadata": {},
   "outputs": [],
   "source": [
    "import numpy as np\n",
    "from scipy.spatial import cKDTree\n",
    "import pyvista as pv\n",
    "import matplotlib.pyplot as plt\n",
    "import mayavi\n",
    "import pandas as pd\n",
    "import trimesh\n",
    "import pymesh\n",
    "import open3d as o3d\n",
    "import vtk"
   ]
  },
  {
   "cell_type": "code",
   "execution_count": 100,
   "id": "5fb1f992-79d7-4314-be28-bc64ae3d08e5",
   "metadata": {},
   "outputs": [],
   "source": [
    "# Load meshes (replace with your file paths)\n",
    "mesh1 = pv.read(\"C:\\\\Users\\\\diton\\\\Desktop\\\\skull_cut.stl\")\n",
    "mesh2 = pv.read(\"C:\\\\Users\\\\diton\\\\Desktop\\\\skin_cut.stl\")"
   ]
  },
  {
   "cell_type": "code",
   "execution_count": 90,
   "id": "6e373619-17b9-4159-9ef1-63fb18c8dbdc",
   "metadata": {},
   "outputs": [
    {
     "ename": "AttributeError",
     "evalue": "module 'pymesh' has no attribute 'LaplacianFilter'",
     "output_type": "error",
     "traceback": [
      "\u001b[1;31m---------------------------------------------------------------------------\u001b[0m",
      "\u001b[1;31mAttributeError\u001b[0m                            Traceback (most recent call last)",
      "Cell \u001b[1;32mIn[90], line 1\u001b[0m\n\u001b[1;32m----> 1\u001b[0m pymesh\u001b[38;5;241m.\u001b[39mLaplacianFilter(mesh1)\n\u001b[0;32m      2\u001b[0m \u001b[38;5;66;03m# Apply Laplacian smoothing directly\u001b[39;00m\n\u001b[0;32m      3\u001b[0m pymesh\u001b[38;5;241m.\u001b[39mlaplacian_filter(mesh1)\n",
      "\u001b[1;31mAttributeError\u001b[0m: module 'pymesh' has no attribute 'LaplacianFilter'"
     ]
    }
   ],
   "source": [
    "pymesh.LaplacianFilter(mesh1)\n",
    "# Apply Laplacian smoothing directly\n",
    "pymesh.laplacian_filter(mesh1)\n",
    "\n",
    "# Decimate to reduce face count (optional, adjust parameters)\n",
    "decimate = pymesh.Decimate(mesh=mesh1, target_face_count=target_face_count)\n",
    "decimate.run()  # Ensure proper indentation\n",
    "\n",
    "# Store the smoothed and decimated mesh\n",
    "remeshed_mesh1 = decimate.mesh"
   ]
  },
  {
   "cell_type": "code",
   "execution_count": 2,
   "id": "3b89f71b-9e99-425d-bb14-eba94d569732",
   "metadata": {},
   "outputs": [],
   "source": [
    "# Calculate the distances from vertices of mesh1 to mesh2 based on the closest distance\n",
    "\n",
    "# Create k-d tree for mesh1\n",
    "tree = cKDTree(mesh1.points)\n",
    "\n",
    "# List to store distances\n",
    "distances = []\n",
    "\n",
    "# Iterate through vertices of mesh2 and find closest points\n",
    "for point in mesh2.points:\n",
    "    _, idx = tree.query(point)\n",
    "    closest_point = mesh1.points[idx]\n",
    "    distance = np.linalg.norm(point - closest_point)\n",
    "    distances.append(distance)"
   ]
  },
  {
   "cell_type": "code",
   "execution_count": 45,
   "id": "7d22c90b-2860-4f60-a579-54069b6cea46",
   "metadata": {},
   "outputs": [
    {
     "name": "stdout",
     "output_type": "stream",
     "text": [
      "Minimum distance: 1.7392804622650146\n",
      "Maximum distance: 27.277362823486328\n",
      "Average distance: 8.333407402038574\n"
     ]
    }
   ],
   "source": [
    "# Print minimum, maximum, and average distances\n",
    "print(f\"Minimum distance: {min(distances)}\")\n",
    "print(f\"Maximum distance: {max(distances)}\")\n",
    "print(f\"Average distance: {np.mean(distances)}\")\n"
   ]
  },
  {
   "cell_type": "code",
   "execution_count": 46,
   "id": "ecd0fb11-5dee-440b-b59a-88683c9a7204",
   "metadata": {},
   "outputs": [],
   "source": [
    "interval_0_5 = []\n",
    "interval_5_10 = []\n",
    "interval_10_15 = []\n",
    "interval_15_20 = []\n",
    "interval_20_25 = []\n",
    "interval_25_30 = []\n",
    "interval_30_35 = []\n",
    "interval_35_40 = []\n",
    "interval_40m = []\n",
    "\n",
    "for value in distances:\n",
    "    if 0 < value < 5:\n",
    "        interval_0_5.append(value)\n",
    "    elif 5 <= value < 10:\n",
    "        interval_5_10.append(value)\n",
    "    elif 10 <= value < 15:\n",
    "        interval_10_15.append(value)\n",
    "    elif 15 <= value < 20:\n",
    "        interval_15_20.append(value)\n",
    "    elif 20 <= value < 25:\n",
    "        interval_20_25.append(value)\n",
    "    elif 25 <= value < 30:\n",
    "        interval_25_30.append(value)\n",
    "    elif 30 <= value < 35:\n",
    "        interval_30_35.append(value)\n",
    "    elif 35 <= value < 40:\n",
    "        interval_35_40.append(value)\n",
    "    else:\n",
    "        interval_40m.append(value)\n"
   ]
  },
  {
   "cell_type": "code",
   "execution_count": 47,
   "id": "e29b4499-6aea-48ae-99cc-4b5ddf33f90a",
   "metadata": {},
   "outputs": [
    {
     "name": "stdout",
     "output_type": "stream",
     "text": [
      "Count of distances (0, 5): 26609 Average distance (0, 5): 3.7564890384674072\n",
      "Count of distances [5, 10): 37061\n",
      "Average distance [5, 10): 7.465975761413574\n",
      "Count of distances [10, 15): 14021\n",
      "Average distance [10, 15): 12.19364070892334\n",
      "Count of distances [15, 20): 8096\n",
      "Average distance [15, 20): 16.817119598388672\n",
      "Count of distances [20, 25): 2000\n",
      "Average distance [20, 25): 22.006235122680664\n",
      "Count of distances [25, 30): 216\n",
      "Average distance [25, 30): 25.837785720825195\n",
      "Count of distances [30, 35): 0\n",
      "Average distance [30, 35): nan\n",
      "Count of distances [35, 40): 0\n",
      "Average distance [35, 40): nan\n",
      "Count of distances [40+]: 0\n",
      "Average distance [40+]: nan\n"
     ]
    },
    {
     "name": "stderr",
     "output_type": "stream",
     "text": [
      "C:\\Users\\diton\\anaconda3\\Lib\\site-packages\\numpy\\core\\fromnumeric.py:3504: RuntimeWarning: Mean of empty slice.\n",
      "  return _methods._mean(a, axis=axis, dtype=dtype,\n",
      "C:\\Users\\diton\\anaconda3\\Lib\\site-packages\\numpy\\core\\_methods.py:129: RuntimeWarning: invalid value encountered in scalar divide\n",
      "  ret = ret.dtype.type(ret / rcount)\n"
     ]
    },
    {
     "data": {
      "text/plain": [
       "(None, None)"
      ]
     },
     "execution_count": 47,
     "metadata": {},
     "output_type": "execute_result"
    }
   ],
   "source": [
    "print(f\"Count of distances (0, 5): {len(interval_0_5)} Average distance (0, 5): {np.mean(interval_0_5)}\")\n",
    "print(f\"Count of distances [5, 10): {len(interval_5_10)}\"), print(f\"Average distance [5, 10): {np.mean(interval_5_10)}\")\n",
    "print(f\"Count of distances [10, 15): {len(interval_10_15)}\"), print(f\"Average distance [10, 15): {np.mean(interval_10_15)}\")\n",
    "print(f\"Count of distances [15, 20): {len(interval_15_20)}\"), print(f\"Average distance [15, 20): {np.mean(interval_15_20)}\")\n",
    "print(f\"Count of distances [20, 25): {len(interval_20_25)}\"), print(f\"Average distance [20, 25): {np.mean(interval_20_25)}\")\n",
    "print(f\"Count of distances [25, 30): {len(interval_25_30)}\"), print(f\"Average distance [25, 30): {np.mean(interval_25_30)}\")\n",
    "print(f\"Count of distances [30, 35): {len(interval_30_35)}\"), print(f\"Average distance [30, 35): {np.mean(interval_30_35)}\")\n",
    "print(f\"Count of distances [35, 40): {len(interval_35_40)}\"), print(f\"Average distance [35, 40): {np.mean(interval_35_40)}\")\n",
    "print(f\"Count of distances [40+]: {len(interval_40m)}\"), print(f\"Average distance [40+]: {np.mean(interval_40m)}\")"
   ]
  },
  {
   "cell_type": "code",
   "execution_count": 48,
   "id": "e5887621-76b1-44c7-a04f-49e98023ed72",
   "metadata": {},
   "outputs": [
    {
     "data": {
      "text/plain": [
       "(array([  833.,  8872., 10609.,  7546.,  6227.,  4781.,  7576.,  8020.,\n",
       "         6358.,  3871.,  2994.,  2636.,  2431.,  2176.,  1821.,  1585.,\n",
       "         2559.,  1824.,  1460.,   814.,   558.,   516.,   527.,   362.,\n",
       "          288.,   278.,   204.,   159.,    70.,    48.]),\n",
       " array([ 1.73928046,  2.59054995,  3.44181919,  4.29308891,  5.14435816,\n",
       "         5.9956274 ,  6.84689713,  7.69816637,  8.54943562,  9.40070534,\n",
       "        10.25197411, 11.10324383, 11.95451355, 12.80578327, 13.65705204,\n",
       "        14.50832176, 15.35959148, 16.21086121, 17.06212997, 17.91339874,\n",
       "        18.76466942, 19.61593819, 20.46720695, 21.31847763, 22.1697464 ,\n",
       "        23.02101517, 23.87228584, 24.72355461, 25.57482338, 26.42609406,\n",
       "        27.27736282]),\n",
       " <BarContainer object of 30 artists>)"
      ]
     },
     "execution_count": 48,
     "metadata": {},
     "output_type": "execute_result"
    },
    {
     "data": {
      "image/png": "[encoded data removed]",
      "text/plain": [
       "<Figure size 640x480 with 1 Axes>"
      ]
     },
     "metadata": {},
     "output_type": "display_data"
    }
   ],
   "source": [
    "plt.hist(distances, bins=30)"
   ]
  },
  {
   "cell_type": "code",
   "execution_count": 53,
   "id": "972b1f6d-3062-4f1b-95d1-5c691c7741dc",
   "metadata": {},
   "outputs": [
    {
     "name": "stdout",
     "output_type": "stream",
     "text": [
      "(147722, 3)\n",
      "(88003,)\n"
     ]
    }
   ],
   "source": [
    "distances_array = np.array(distances)\n",
    "# points_with_distance = np.reshape(mesh1.points, (-1, 3))\n",
    "points_with_distance = mesh1.points.copy()\n",
    "\n",
    "print(points_with_distance.shape)\n",
    "print(distances_array.shape)"
   ]
  },
  {
   "cell_type": "code",
   "execution_count": 8,
   "id": "a2b6f893-df77-481a-9b74-829c4ba69deb",
   "metadata": {},
   "outputs": [],
   "source": [
    "# Assuming 'mesh1' has points and 'distances_array' holds calculated distances\n",
    "filtered_points = []\n",
    "filtered_distances = []\n",
    "\n",
    "for i, distance in enumerate(distances_array):\n",
    "  if not np.isnan(distance):  # Check if distance is not NaN\n",
    "    filtered_points.append(mesh1.points[i])\n",
    "    filtered_distances.append(distance)\n",
    "      \n",
    "filtered_points_array = np.array(filtered_points)\n",
    "filtered_distances_array = np.array(filtered_distances)\n"
   ]
  },
  {
   "cell_type": "code",
   "execution_count": 9,
   "id": "a6fb31ea-c2e0-4e7b-912d-6adaebe771e2",
   "metadata": {},
   "outputs": [
    {
     "name": "stdout",
     "output_type": "stream",
     "text": [
      "(88003, 3)\n",
      "(88003,)\n",
      "(88003,)\n",
      "float32\n",
      "[pyvista_ndarray([ 12.181999, -55.791283, -31.22261 ], dtype=float32), pyvista_ndarray([ 12.07309 , -56.06076 , -31.318588], dtype=float32), pyvista_ndarray([ 12.107758, -55.95526 , -30.919739], dtype=float32), pyvista_ndarray([ 12.183731, -55.773193, -30.908478], dtype=float32), pyvista_ndarray([ 12.193764, -55.794403, -30.512009], dtype=float32)]\n"
     ]
    }
   ],
   "source": [
    "# # Convert filtered points and distances to NumPy arrays\n",
    "# filtered_points_array = [point[:3] for point in filtered_points]\n",
    "# filtered_points_array = np.array(filtered_points)\n",
    "\n",
    "selected_points = []\n",
    "for point in filtered_points:\n",
    "  selected_points.append([float(x) for x in point[:3]])  # Convert first 3 elements to floats\n",
    "filtered_points_array = np.array(selected_points)\n",
    "\n",
    "filtered_distances_array = np.array(filtered_distances)\n",
    "\n",
    "# Checking where is the problem!!! But it's not clear....\n",
    "print(filtered_points_array.shape)\n",
    "print(filtered_distances_array.shape)\n",
    "print(distances_array.shape)\n",
    "print(distances_array.dtype)\n",
    "print(filtered_points[:5])"
   ]
  },
  {
   "cell_type": "code",
   "execution_count": 10,
   "id": "123a3a6a-dc4f-49c9-9a4a-68a9656371e3",
   "metadata": {},
   "outputs": [
    {
     "name": "stdout",
     "output_type": "stream",
     "text": [
      "(88003, 3)\n",
      "(88003, 4)\n"
     ]
    }
   ],
   "source": [
    "print(filtered_points_array.shape)\n",
    "combined_array = np.hstack((filtered_points_array, distances_array[:, None]))\n",
    "print(combined_array.shape)"
   ]
  },
  {
   "cell_type": "code",
   "execution_count": 54,
   "id": "ac1ab643-1cf2-4115-b923-db6b2005e55b",
   "metadata": {},
   "outputs": [
    {
     "ename": "ValueError",
     "evalue": "Points array must contain three values per point. Shape is (3, 88003) and should be (X, 3)",
     "output_type": "error",
     "traceback": [
      "\u001b[1;31m---------------------------------------------------------------------------\u001b[0m",
      "\u001b[1;31mValueError\u001b[0m                                Traceback (most recent call last)",
      "Cell \u001b[1;32mIn[54], line 4\u001b[0m\n\u001b[0;32m      1\u001b[0m \u001b[38;5;66;03m# Assuming filtered_points_array is a pandas DataFrame with columns for x, y, z\u001b[39;00m\n\u001b[0;32m      2\u001b[0m \n\u001b[0;32m      3\u001b[0m \u001b[38;5;66;03m# filtered_points_array = np.transpose(filtered_points_array)\u001b[39;00m\n\u001b[1;32m----> 4\u001b[0m points \u001b[38;5;241m=\u001b[39m pv\u001b[38;5;241m.\u001b[39mPolyData(np\u001b[38;5;241m.\u001b[39mtranspose(filtered_points_array))\n\u001b[0;32m      5\u001b[0m \u001b[38;5;28;01mif\u001b[39;00m \u001b[38;5;28mlen\u001b[39m(distances_array) \u001b[38;5;241m==\u001b[39m \u001b[38;5;28mlen\u001b[39m(points):  \u001b[38;5;66;03m# Check for matching lengths\u001b[39;00m\n\u001b[0;32m      6\u001b[0m     points\u001b[38;5;241m.\u001b[39mpoint_arrays[\u001b[38;5;124m\"\u001b[39m\u001b[38;5;124mdistances\u001b[39m\u001b[38;5;124m\"\u001b[39m] \u001b[38;5;241m=\u001b[39m distances_array\n",
      "File \u001b[1;32m~\\anaconda3\\Lib\\site-packages\\pyvista\\core\\pointset.py:671\u001b[0m, in \u001b[0;36mPolyData.__init__\u001b[1;34m(self, var_inp, faces, n_faces, lines, n_lines, strips, n_strips, deep, force_ext, force_float, verts, n_verts)\u001b[0m\n\u001b[0;32m    669\u001b[0m \u001b[38;5;66;03m# First parameter is points\u001b[39;00m\n\u001b[0;32m    670\u001b[0m \u001b[38;5;28;01mif\u001b[39;00m \u001b[38;5;28misinstance\u001b[39m(var_inp, (np\u001b[38;5;241m.\u001b[39mndarray, \u001b[38;5;28mlist\u001b[39m, _vtk\u001b[38;5;241m.\u001b[39mvtkDataArray)):\n\u001b[1;32m--> 671\u001b[0m     \u001b[38;5;28mself\u001b[39m\u001b[38;5;241m.\u001b[39mSetPoints(vtk_points(var_inp, deep\u001b[38;5;241m=\u001b[39mdeep, force_float\u001b[38;5;241m=\u001b[39mforce_float))\n\u001b[0;32m    673\u001b[0m \u001b[38;5;28;01melse\u001b[39;00m:\n\u001b[0;32m    674\u001b[0m     msg \u001b[38;5;241m=\u001b[39m \u001b[38;5;124mf\u001b[39m\u001b[38;5;124m\"\"\"\u001b[39m\n\u001b[0;32m    675\u001b[0m \u001b[38;5;124m        Invalid Input type:\u001b[39m\n\u001b[0;32m    676\u001b[0m \n\u001b[1;32m   (...)\u001b[0m\n\u001b[0;32m    683\u001b[0m \n\u001b[0;32m    684\u001b[0m \u001b[38;5;124m        Instead got: \u001b[39m\u001b[38;5;132;01m{\u001b[39;00m\u001b[38;5;28mtype\u001b[39m(var_inp)\u001b[38;5;132;01m}\u001b[39;00m\u001b[38;5;124m\"\"\"\u001b[39m\n",
      "File \u001b[1;32m~\\anaconda3\\Lib\\site-packages\\pyvista\\core\\utilities\\points.py:68\u001b[0m, in \u001b[0;36mvtk_points\u001b[1;34m(points, deep, force_float)\u001b[0m\n\u001b[0;32m     66\u001b[0m \u001b[38;5;66;03m# verify shape\u001b[39;00m\n\u001b[0;32m     67\u001b[0m \u001b[38;5;28;01mif\u001b[39;00m points\u001b[38;5;241m.\u001b[39mshape[\u001b[38;5;241m1\u001b[39m] \u001b[38;5;241m!=\u001b[39m \u001b[38;5;241m3\u001b[39m:\n\u001b[1;32m---> 68\u001b[0m     \u001b[38;5;28;01mraise\u001b[39;00m \u001b[38;5;167;01mValueError\u001b[39;00m(\n\u001b[0;32m     69\u001b[0m         \u001b[38;5;124m'\u001b[39m\u001b[38;5;124mPoints array must contain three values per point. \u001b[39m\u001b[38;5;124m'\u001b[39m\n\u001b[0;32m     70\u001b[0m         \u001b[38;5;124mf\u001b[39m\u001b[38;5;124m'\u001b[39m\u001b[38;5;124mShape is \u001b[39m\u001b[38;5;132;01m{\u001b[39;00mpoints\u001b[38;5;241m.\u001b[39mshape\u001b[38;5;132;01m}\u001b[39;00m\u001b[38;5;124m and should be (X, 3)\u001b[39m\u001b[38;5;124m'\u001b[39m\n\u001b[0;32m     71\u001b[0m     )\n\u001b[0;32m     73\u001b[0m \u001b[38;5;66;03m# use the underlying vtk data if present to avoid memory leaks\u001b[39;00m\n\u001b[0;32m     74\u001b[0m \u001b[38;5;28;01mif\u001b[39;00m \u001b[38;5;129;01mnot\u001b[39;00m deep \u001b[38;5;129;01mand\u001b[39;00m \u001b[38;5;28misinstance\u001b[39m(points, pyvista\u001b[38;5;241m.\u001b[39mpyvista_ndarray):\n",
      "\u001b[1;31mValueError\u001b[0m: Points array must contain three values per point. Shape is (3, 88003) and should be (X, 3)"
     ]
    }
   ],
   "source": [
    "# Assuming filtered_points_array is a pandas DataFrame with columns for x, y, z\n",
    "\n",
    "# filtered_points_array = np.transpose(filtered_points_array)\n",
    "points = pv.PolyData(np.transpose(filtered_points_array))\n",
    "if len(distances_array) == len(points):  # Check for matching lengths\n",
    "    points.point_arrays[\"distances\"] = distances_array\n",
    "# Assuming filtered_points_array is a pandas DataFrame with columns for x, y, z\n",
    "# data = pd.DataFrame({\"x\": filtered_points_array[:, 0], \"y\": filtered_points_array[:, 1], \"z\": filtered_points_array[:, 2], \"distances\": distances_array})\n",
    "# points = pv.PolyData(data)  # Create PolyData from DataFrame\n",
    "plotter = pv.Plotter()\n",
    "plotter.add_mesh(points, scalars = \"distances\", cmap = \"plasma\")  # \"plasma\" colormap\n",
    "plotter.show()"
   ]
  },
  {
   "cell_type": "code",
   "execution_count": null,
   "id": "fd646ce7-d387-428f-bf9d-9d248efaa27d",
   "metadata": {},
   "outputs": [],
   "source": [
    "# Just checking. Not to the project\n",
    "sample_points = np.array([[1, 2, 3], [4, 5, 6], [7, 8, 9]])  # Sample points\n",
    "sample_distances = np.array([10, 20, 30])  # Sample distances\n",
    "\n",
    "sliced_points_2 = sample_points[:, :3]  # Slice to get x, y, z\n",
    "combined_array = np.hstack((sliced_points_2, sample_distances[:, None]))\n",
    "\n",
    "print(combined_array.shape)\n",
    "print(sliced_points_2.shape)"
   ]
  },
  {
   "cell_type": "code",
   "execution_count": null,
   "id": "1729c459-903f-4e29-a99f-42e86c8ed58c",
   "metadata": {},
   "outputs": [],
   "source": [
    "try:\n",
    "  mesh1_colored = pv.PolyData(np.hstack((filtered_points_array, distances_array[:, None])))\n",
    "except Exception as e:\n",
    "  print(f\"Error creating PolyData: {e}\")"
   ]
  },
  {
   "cell_type": "code",
   "execution_count": 55,
   "id": "8214874c-1f3a-4407-b58e-5edd22c1b251",
   "metadata": {},
   "outputs": [
    {
     "ename": "ValueError",
     "evalue": "Points array must contain three values per point. Shape is (88003, 4) and should be (X, 3)",
     "output_type": "error",
     "traceback": [
      "\u001b[1;31m---------------------------------------------------------------------------\u001b[0m",
      "\u001b[1;31mValueError\u001b[0m                                Traceback (most recent call last)",
      "Cell \u001b[1;32mIn[55], line 1\u001b[0m\n\u001b[1;32m----> 1\u001b[0m mesh1_colored \u001b[38;5;241m=\u001b[39m pv\u001b[38;5;241m.\u001b[39mPolyData(np\u001b[38;5;241m.\u001b[39mhstack((filtered_points_array, distances_array[:, \u001b[38;5;28;01mNone\u001b[39;00m])))\n\u001b[0;32m      3\u001b[0m \u001b[38;5;66;03m# Create a PolyData with the points and distances\u001b[39;00m\n\u001b[0;32m      4\u001b[0m mesh1_colored \u001b[38;5;241m=\u001b[39m pv\u001b[38;5;241m.\u001b[39mPolyData(points_with_distance)\n",
      "File \u001b[1;32m~\\anaconda3\\Lib\\site-packages\\pyvista\\core\\pointset.py:671\u001b[0m, in \u001b[0;36mPolyData.__init__\u001b[1;34m(self, var_inp, faces, n_faces, lines, n_lines, strips, n_strips, deep, force_ext, force_float, verts, n_verts)\u001b[0m\n\u001b[0;32m    669\u001b[0m \u001b[38;5;66;03m# First parameter is points\u001b[39;00m\n\u001b[0;32m    670\u001b[0m \u001b[38;5;28;01mif\u001b[39;00m \u001b[38;5;28misinstance\u001b[39m(var_inp, (np\u001b[38;5;241m.\u001b[39mndarray, \u001b[38;5;28mlist\u001b[39m, _vtk\u001b[38;5;241m.\u001b[39mvtkDataArray)):\n\u001b[1;32m--> 671\u001b[0m     \u001b[38;5;28mself\u001b[39m\u001b[38;5;241m.\u001b[39mSetPoints(vtk_points(var_inp, deep\u001b[38;5;241m=\u001b[39mdeep, force_float\u001b[38;5;241m=\u001b[39mforce_float))\n\u001b[0;32m    673\u001b[0m \u001b[38;5;28;01melse\u001b[39;00m:\n\u001b[0;32m    674\u001b[0m     msg \u001b[38;5;241m=\u001b[39m \u001b[38;5;124mf\u001b[39m\u001b[38;5;124m\"\"\"\u001b[39m\n\u001b[0;32m    675\u001b[0m \u001b[38;5;124m        Invalid Input type:\u001b[39m\n\u001b[0;32m    676\u001b[0m \n\u001b[1;32m   (...)\u001b[0m\n\u001b[0;32m    683\u001b[0m \n\u001b[0;32m    684\u001b[0m \u001b[38;5;124m        Instead got: \u001b[39m\u001b[38;5;132;01m{\u001b[39;00m\u001b[38;5;28mtype\u001b[39m(var_inp)\u001b[38;5;132;01m}\u001b[39;00m\u001b[38;5;124m\"\"\"\u001b[39m\n",
      "File \u001b[1;32m~\\anaconda3\\Lib\\site-packages\\pyvista\\core\\utilities\\points.py:68\u001b[0m, in \u001b[0;36mvtk_points\u001b[1;34m(points, deep, force_float)\u001b[0m\n\u001b[0;32m     66\u001b[0m \u001b[38;5;66;03m# verify shape\u001b[39;00m\n\u001b[0;32m     67\u001b[0m \u001b[38;5;28;01mif\u001b[39;00m points\u001b[38;5;241m.\u001b[39mshape[\u001b[38;5;241m1\u001b[39m] \u001b[38;5;241m!=\u001b[39m \u001b[38;5;241m3\u001b[39m:\n\u001b[1;32m---> 68\u001b[0m     \u001b[38;5;28;01mraise\u001b[39;00m \u001b[38;5;167;01mValueError\u001b[39;00m(\n\u001b[0;32m     69\u001b[0m         \u001b[38;5;124m'\u001b[39m\u001b[38;5;124mPoints array must contain three values per point. \u001b[39m\u001b[38;5;124m'\u001b[39m\n\u001b[0;32m     70\u001b[0m         \u001b[38;5;124mf\u001b[39m\u001b[38;5;124m'\u001b[39m\u001b[38;5;124mShape is \u001b[39m\u001b[38;5;132;01m{\u001b[39;00mpoints\u001b[38;5;241m.\u001b[39mshape\u001b[38;5;132;01m}\u001b[39;00m\u001b[38;5;124m and should be (X, 3)\u001b[39m\u001b[38;5;124m'\u001b[39m\n\u001b[0;32m     71\u001b[0m     )\n\u001b[0;32m     73\u001b[0m \u001b[38;5;66;03m# use the underlying vtk data if present to avoid memory leaks\u001b[39;00m\n\u001b[0;32m     74\u001b[0m \u001b[38;5;28;01mif\u001b[39;00m \u001b[38;5;129;01mnot\u001b[39;00m deep \u001b[38;5;129;01mand\u001b[39;00m \u001b[38;5;28misinstance\u001b[39m(points, pyvista\u001b[38;5;241m.\u001b[39mpyvista_ndarray):\n",
      "\u001b[1;31mValueError\u001b[0m: Points array must contain three values per point. Shape is (88003, 4) and should be (X, 3)"
     ]
    }
   ],
   "source": [
    "mesh1_colored = pv.PolyData(np.hstack((filtered_points_array, distances_array[:, None])))\n",
    "\n",
    "# Create a PolyData with the points and distances\n",
    "mesh1_colored = pv.PolyData(points_with_distance)\n",
    "\n",
    "# Color mapper for the distances\n",
    "mapper = pv.UniformColorMapping(scalar_range = (min(distances), max(distances)))\n",
    "mapper.auto_scalars = False  # Avoid automatic range scaling\n",
    "\n",
    "# Apply the color mapper and scalar field to mesh1\n",
    "mesh1_colored.scalars = distances_array\n",
    "mesh1_colored.color(mapper) \n",
    "\n",
    "# Plot both meshes with different colors\n",
    "plotter = pv.Plotter()\n",
    "plotter.add_mesh(mesh1, color = 'white')  # Original mesh in white\n",
    "plotter.add_mesh(mesh1_colored, cmap = mapper, show_scalar_bar = True, label = \"Distance to mesh2\")\n",
    "plotter.show()"
   ]
  },
  {
   "cell_type": "code",
   "execution_count": 116,
   "id": "24e4735e-3c72-4ddd-ba71-1309c71974ad",
   "metadata": {},
   "outputs": [
    {
     "ename": "KeyboardInterrupt",
     "evalue": "",
     "output_type": "error",
     "traceback": [
      "\u001b[1;31m---------------------------------------------------------------------------\u001b[0m",
      "\u001b[1;31mKeyboardInterrupt\u001b[0m                         Traceback (most recent call last)",
      "Cell \u001b[1;32mIn[116], line 8\u001b[0m\n\u001b[0;32m      5\u001b[0m \u001b[38;5;28;01mfor\u001b[39;00m point_id \u001b[38;5;129;01min\u001b[39;00m \u001b[38;5;28mrange\u001b[39m(\u001b[38;5;28mlen\u001b[39m(mesh1\u001b[38;5;241m.\u001b[39mpoints)):\n\u001b[0;32m      6\u001b[0m     \u001b[38;5;66;03m# Get vertex and normal from mesh1\u001b[39;00m\n\u001b[0;32m      7\u001b[0m     vertex \u001b[38;5;241m=\u001b[39m mesh1\u001b[38;5;241m.\u001b[39mpoints[point_id]\n\u001b[1;32m----> 8\u001b[0m     normal \u001b[38;5;241m=\u001b[39m mesh1\u001b[38;5;241m.\u001b[39mpoint_normals[point_id]\n\u001b[0;32m     10\u001b[0m     \u001b[38;5;66;03m# Create a ray starting at vertex, extending in negative normal direction\u001b[39;00m\n\u001b[0;32m     11\u001b[0m     ray_start \u001b[38;5;241m=\u001b[39m vertex\n",
      "File \u001b[1;32m~\\anaconda3\\Lib\\site-packages\\pyvista\\core\\pointset.py:1325\u001b[0m, in \u001b[0;36mPolyData.point_normals\u001b[1;34m(self)\u001b[0m\n\u001b[0;32m   1323\u001b[0m     normals \u001b[38;5;241m=\u001b[39m \u001b[38;5;28mself\u001b[39m\u001b[38;5;241m.\u001b[39mpoint_data\u001b[38;5;241m.\u001b[39mactive_normals\n\u001b[0;32m   1324\u001b[0m \u001b[38;5;28;01melse\u001b[39;00m:\n\u001b[1;32m-> 1325\u001b[0m     normals \u001b[38;5;241m=\u001b[39m \u001b[38;5;28mself\u001b[39m\u001b[38;5;241m.\u001b[39mcompute_normals(cell_normals\u001b[38;5;241m=\u001b[39m\u001b[38;5;28;01mFalse\u001b[39;00m, inplace\u001b[38;5;241m=\u001b[39m\u001b[38;5;28;01mFalse\u001b[39;00m)\u001b[38;5;241m.\u001b[39mpoint_data[\u001b[38;5;124m'\u001b[39m\u001b[38;5;124mNormals\u001b[39m\u001b[38;5;124m'\u001b[39m]\n\u001b[0;32m   1326\u001b[0m \u001b[38;5;28;01mreturn\u001b[39;00m normals\n",
      "File \u001b[1;32m~\\anaconda3\\Lib\\site-packages\\pyvista\\core\\filters\\poly_data.py:1701\u001b[0m, in \u001b[0;36mPolyDataFilters.compute_normals\u001b[1;34m(self, cell_normals, point_normals, split_vertices, flip_normals, consistent_normals, auto_orient_normals, non_manifold_traversal, feature_angle, inplace, progress_bar)\u001b[0m\n\u001b[0;32m   1698\u001b[0m normal\u001b[38;5;241m.\u001b[39mSetInputData(\u001b[38;5;28mself\u001b[39m)\n\u001b[0;32m   1699\u001b[0m _update_alg(normal, progress_bar, \u001b[38;5;124m'\u001b[39m\u001b[38;5;124mComputing Normals\u001b[39m\u001b[38;5;124m'\u001b[39m)\n\u001b[1;32m-> 1701\u001b[0m mesh \u001b[38;5;241m=\u001b[39m _get_output(normal)\n\u001b[0;32m   1702\u001b[0m \u001b[38;5;28;01mif\u001b[39;00m point_normals:\n\u001b[0;32m   1703\u001b[0m     mesh\u001b[38;5;241m.\u001b[39mGetPointData()\u001b[38;5;241m.\u001b[39mSetActiveNormals(\u001b[38;5;124m'\u001b[39m\u001b[38;5;124mNormals\u001b[39m\u001b[38;5;124m'\u001b[39m)\n",
      "File \u001b[1;32m~\\anaconda3\\Lib\\site-packages\\pyvista\\core\\filters\\__init__.py:41\u001b[0m, in \u001b[0;36m_get_output\u001b[1;34m(algorithm, iport, iconnection, oport, active_scalars, active_scalars_field)\u001b[0m\n\u001b[0;32m     37\u001b[0m     \u001b[38;5;28;01melse\u001b[39;00m:\n\u001b[0;32m     38\u001b[0m         alg\u001b[38;5;241m.\u001b[39mUpdate()\n\u001b[1;32m---> 41\u001b[0m \u001b[38;5;28;01mdef\u001b[39;00m \u001b[38;5;21m_get_output\u001b[39m(\n\u001b[0;32m     42\u001b[0m     algorithm, iport\u001b[38;5;241m=\u001b[39m\u001b[38;5;241m0\u001b[39m, iconnection\u001b[38;5;241m=\u001b[39m\u001b[38;5;241m0\u001b[39m, oport\u001b[38;5;241m=\u001b[39m\u001b[38;5;241m0\u001b[39m, active_scalars\u001b[38;5;241m=\u001b[39m\u001b[38;5;28;01mNone\u001b[39;00m, active_scalars_field\u001b[38;5;241m=\u001b[39m\u001b[38;5;124m'\u001b[39m\u001b[38;5;124mpoint\u001b[39m\u001b[38;5;124m'\u001b[39m\n\u001b[0;32m     43\u001b[0m ):\n\u001b[0;32m     44\u001b[0m \u001b[38;5;250m    \u001b[39m\u001b[38;5;124;03m\"\"\"Get the algorithm's output and copy input's pyvista meta info.\"\"\"\u001b[39;00m\n\u001b[0;32m     45\u001b[0m     ido \u001b[38;5;241m=\u001b[39m wrap(algorithm\u001b[38;5;241m.\u001b[39mGetInputDataObject(iport, iconnection))\n",
      "\u001b[1;31mKeyboardInterrupt\u001b[0m: "
     ]
    }
   ],
   "source": [
    "# Second approach for calculating the mesh-to-mesh distances \n",
    "\n",
    "distances = []  # Store distances between each mesh1 vertex and mesh2\n",
    "\n",
    "for point_id in range(len(mesh1.points)):\n",
    "    # Get vertex and normal from mesh1\n",
    "    vertex = mesh1.points[point_id]\n",
    "    normal = mesh1.point_normals[point_id]\n",
    "\n",
    "    # Create a ray starting at vertex, extending in negative normal direction\n",
    "    ray_start = vertex\n",
    "    ray_end = vertex - 0.2 * normal  # Adjust length as needed\n",
    "\n",
    "    # Perform ray trace and check for intersection with mesh2\n",
    "    # This returns a list of intersections (might have multiple)\n",
    "    intersections = mesh2.ray_trace(ray_start, ray_end)\n",
    "\n",
    "    # Find the first intersection point (modify for multiple intersections)\n",
    "    if len(intersections) > 0:\n",
    "        intersection = intersections[0]  # Assuming the first intersection is relevant\n",
    "        distance = np.linalg.norm(vertex - intersection)\n",
    "        \n",
    "        distances.append(distance)\n"
   ]
  },
  {
   "cell_type": "code",
   "execution_count": 117,
   "id": "bb9b03e8-3060-4b96-a966-75f712671e41",
   "metadata": {},
   "outputs": [
    {
     "name": "stdout",
     "output_type": "stream",
     "text": [
      "Minimum distance: 0.0\n",
      "Maximum distance: 0.0\n",
      "Average distance: 0.0\n",
      "Length: 800\n"
     ]
    }
   ],
   "source": [
    "# Print minimum, maximum, and average distances from the second approach\n",
    "print(f\"Minimum distance: {min(distances)}\")\n",
    "print(f\"Maximum distance: {max(distances)}\")\n",
    "print(f\"Average distance: {np.mean(distances)}\")\n",
    "print(f\"Length: {len(distances)}\")"
   ]
  },
  {
   "cell_type": "code",
   "execution_count": null,
   "id": "1c108258-448d-497c-8315-6aecaaf99729",
   "metadata": {},
   "outputs": [],
   "source": [
    "plt.hist(distances, bins=30)"
   ]
  },
  {
   "cell_type": "code",
   "execution_count": null,
   "id": "de328717-22d4-4a3e-a84b-7963302e12ca",
   "metadata": {},
   "outputs": [],
   "source": []
  },
  {
   "cell_type": "code",
   "execution_count": 147,
   "id": "728cd5c5-925b-4d4b-8b57-eb29ede9fa47",
   "metadata": {},
   "outputs": [
    {
     "name": "stdout",
     "output_type": "stream",
     "text": [
      "Number of planes with normals calculated: 147722\n"
     ]
    }
   ],
   "source": [
    "import numpy as np\n",
    "\n",
    "\n",
    "def calculate_plane_from_vertices(mesh, vertex_indices):\n",
    "  \"\"\"\n",
    "  Calculates the equation of a plane given 5 vertices (assuming a non-degenerate quadrilateral).\n",
    "\n",
    "  Args:\n",
    "      mesh: A mesh object from your mesh processing library.\n",
    "      vertex_indices: A list of indices (length 5) corresponding to the 5 vertices.\n",
    "\n",
    "  Returns:\n",
    "      A NumPy array of shape (4,) representing the plane equation (ax + by + cz + d = 0).\n",
    "      None if the calculation fails (e.g., degenerate case).\n",
    "  \"\"\"\n",
    "\n",
    "  if len(vertex_indices) != 5:\n",
    "    raise ValueError(\"Input must be a list of 5 vertex indices.\")\n",
    "\n",
    "  # Get the vertex positions\n",
    "  vertices = mesh.points[vertex_indices]\n",
    "\n",
    "  # Calculate two triangle normals (assuming non-degeneracy)\n",
    "  triangle1_normal = np.cross(vertices[1] - vertices[0], vertices[2] - vertices[0])\n",
    "  triangle2_normal = np.cross(vertices[2] - vertices[1], vertices[3] - vertices[1])\n",
    "\n",
    "  # Check if the normals are almost parallel (potential degeneracy)\n",
    "  if np.allclose(triangle1_normal, triangle2_normal, atol=1e-6):\n",
    "    print(\"Warning: Near-parallel normals detected. Plane calculation might be inaccurate.\")\n",
    "\n",
    "  # Take the average of the two normals as the plane normal\n",
    "  plane_normal = np.mean([triangle1_normal, triangle2_normal], axis=0)\n",
    "\n",
    "  # Choose one vertex as the reference point on the plane\n",
    "  plane_point = vertices[0]\n",
    "\n",
    "  # Plane equation: ax + by + cz + d = 0\n",
    "  a, b, c = plane_normal\n",
    "  d = -np.dot(plane_normal, plane_point)\n",
    "\n",
    "  return np.array([a, b, c, d])\n",
    "\n",
    "\n",
    "def calculate_planes_for_neighboring_vertices(mesh, num_vertices, neighbor_offset):\n",
    "  \"\"\"\n",
    "  Calculates plane equations and normal vectors for sets of 5 neighboring vertices in a mesh.\n",
    "\n",
    "  Args:\n",
    "      mesh: A mesh object from your mesh processing library.\n",
    "      num_vertices: Total number of vertices in the mesh.\n",
    "      neighbor_offset: Offset value to define neighboring vertices (e.g., 1 for immediate neighbors).\n",
    "\n",
    "  Returns:\n",
    "      A list of tuples, where each tuple contains a NumPy array (4,) for the plane equation and a NumPy array (3,) for the plane normal for a set of 5 vertices.\n",
    "  \"\"\"\n",
    "\n",
    "  plane_equations_with_normals = []\n",
    "  for vertex_index in range(num_vertices):\n",
    "    # Define neighboring vertex indices (wrap around if necessary)\n",
    "    neighbor_indices = [(vertex_index + i) % num_vertices for i in range(1, 6)]\n",
    "\n",
    "    # Calculate plane equation and normal for this set of neighbors\n",
    "    plane_equation = calculate_plane_from_vertices(mesh, neighbor_indices)\n",
    "    if plane_equation is not None:\n",
    "      plane_normal = plane_equation[:3]  # Extract normal vector from plane equation\n",
    "      plane_equations_with_normals.append((plane_equation, plane_normal))\n",
    "\n",
    "  return plane_equations_with_normals\n",
    "\n",
    "\n",
    "# Example usage (assuming you have loaded your mesh)\n",
    "num_vertices = len(mesh1.points)\n",
    "neighbor_offset = 1  # Consider immediate neighbors\n",
    "\n",
    "plane_equations_with_normals = calculate_planes_for_neighboring_vertices(mesh1, num_vertices, neighbor_offset)\n",
    "\n",
    "print(f\"Number of planes with normals calculated: {len(plane_equations_with_normals)}\")\n",
    "# Access individual plane equations and normals from the list of tuples\n",
    "\n"
   ]
  },
  {
   "cell_type": "code",
   "execution_count": 148,
   "id": "ecbc50d1-3152-4ea6-8c38-f0a556ae02c7",
   "metadata": {},
   "outputs": [
    {
     "name": "stdout",
     "output_type": "stream",
     "text": [
      "(array([ 4.9674138e-04, -4.8286282e-05, -2.5706142e-03, -8.9212179e-02],\n",
      "      dtype=float32), array([ 4.9674138e-04, -4.8286282e-05, -2.5706142e-03], dtype=float32))\n"
     ]
    }
   ],
   "source": [
    "print(plane_equations_with_normals[0])"
   ]
  },
  {
   "cell_type": "code",
   "execution_count": 154,
   "id": "522cf4fe-6e4e-454c-90d9-29b593344bf4",
   "metadata": {},
   "outputs": [
    {
     "ename": "KeyboardInterrupt",
     "evalue": "",
     "output_type": "error",
     "traceback": [
      "\u001b[1;31m---------------------------------------------------------------------------\u001b[0m",
      "\u001b[1;31mKeyboardInterrupt\u001b[0m                         Traceback (most recent call last)",
      "Cell \u001b[1;32mIn[154], line 89\u001b[0m\n\u001b[0;32m     85\u001b[0m   \u001b[38;5;28;01mreturn\u001b[39;00m distances\n\u001b[0;32m     88\u001b[0m \u001b[38;5;66;03m# Example usage (assuming you have plane_equations_with_normals and mesh2)\u001b[39;00m\n\u001b[1;32m---> 89\u001b[0m distances \u001b[38;5;241m=\u001b[39m calculate_perpendicular_distances_to_mesh2(plane_equations_with_normals, mesh2)\n\u001b[0;32m     91\u001b[0m \u001b[38;5;28mprint\u001b[39m(\u001b[38;5;124mf\u001b[39m\u001b[38;5;124m\"\u001b[39m\u001b[38;5;124mNumber of distances calculated: \u001b[39m\u001b[38;5;132;01m{\u001b[39;00m\u001b[38;5;28mlen\u001b[39m(distances)\u001b[38;5;132;01m}\u001b[39;00m\u001b[38;5;124m\"\u001b[39m)\n",
      "Cell \u001b[1;32mIn[154], line 76\u001b[0m, in \u001b[0;36mcalculate_perpendicular_distances_to_mesh2\u001b[1;34m(plane_equations_with_normals, mesh2)\u001b[0m\n\u001b[0;32m     74\u001b[0m \u001b[38;5;66;03m# Loop through the filtered triangles\u001b[39;00m\n\u001b[0;32m     75\u001b[0m \u001b[38;5;28;01mfor\u001b[39;00m triangle_index, triangle \u001b[38;5;129;01min\u001b[39;00m \u001b[38;5;28menumerate\u001b[39m(triangles):\n\u001b[1;32m---> 76\u001b[0m   distance \u001b[38;5;241m=\u001b[39m calculate_perpendicular_distance_to_triangle(plane_normal, plane_point, triangle)\n\u001b[0;32m     77\u001b[0m   perpendicular_distances\u001b[38;5;241m.\u001b[39mappend(distance)\n\u001b[0;32m     79\u001b[0m \u001b[38;5;66;03m# If there's at least one non-None distance, use the minimum value\u001b[39;00m\n",
      "Cell \u001b[1;32mIn[154], line 43\u001b[0m, in \u001b[0;36mcalculate_perpendicular_distance_to_triangle\u001b[1;34m(plane_normal, plane_point, triangle)\u001b[0m\n\u001b[0;32m     40\u001b[0m centroid \u001b[38;5;241m=\u001b[39m np\u001b[38;5;241m.\u001b[39mmean(triangle, axis\u001b[38;5;241m=\u001b[39m\u001b[38;5;241m0\u001b[39m)\n\u001b[0;32m     42\u001b[0m \u001b[38;5;66;03m# Project the centroid onto the plane\u001b[39;00m\n\u001b[1;32m---> 43\u001b[0m projected_centroid \u001b[38;5;241m=\u001b[39m project_point_onto_plane(centroid, plane_normal, plane_point)\n\u001b[0;32m     45\u001b[0m \u001b[38;5;66;03m# Perpendicular distance is the distance between the projected point and centroid\u001b[39;00m\n\u001b[0;32m     46\u001b[0m \u001b[38;5;28;01mreturn\u001b[39;00m np\u001b[38;5;241m.\u001b[39mlinalg\u001b[38;5;241m.\u001b[39mnorm(projected_centroid \u001b[38;5;241m-\u001b[39m centroid)\n",
      "Cell \u001b[1;32mIn[154], line 18\u001b[0m, in \u001b[0;36mproject_point_onto_plane\u001b[1;34m(point, normal, plane_point)\u001b[0m\n\u001b[0;32m     15\u001b[0m v \u001b[38;5;241m=\u001b[39m point \u001b[38;5;241m-\u001b[39m plane_point\n\u001b[0;32m     17\u001b[0m \u001b[38;5;66;03m# Distance from plane point to projection (scalar)\u001b[39;00m\n\u001b[1;32m---> 18\u001b[0m d \u001b[38;5;241m=\u001b[39m np\u001b[38;5;241m.\u001b[39mdot(v, normal) \u001b[38;5;241m/\u001b[39m np\u001b[38;5;241m.\u001b[39mlinalg\u001b[38;5;241m.\u001b[39mnorm(normal)\n\u001b[0;32m     20\u001b[0m \u001b[38;5;66;03m# Projection of the point onto the plane\u001b[39;00m\n\u001b[0;32m     21\u001b[0m projection \u001b[38;5;241m=\u001b[39m plane_point \u001b[38;5;241m+\u001b[39m d \u001b[38;5;241m*\u001b[39m normal\n",
      "\u001b[1;31mKeyboardInterrupt\u001b[0m: "
     ]
    }
   ],
   "source": [
    "\n",
    "def project_point_onto_plane(point, normal, plane_point):\n",
    "  \"\"\"\n",
    "  Projects a point onto a plane defined by a normal vector and a point on the plane.\n",
    "\n",
    "  Args:\n",
    "      point: A NumPy array of shape (3,) representing a point in space.\n",
    "      normal: A NumPy array of shape (3,) representing the plane's normal vector.\n",
    "      plane_point: A NumPy array of shape (3,) representing a point on the plane.\n",
    "\n",
    "  Returns:\n",
    "      The projection of the point onto the plane.\n",
    "  \"\"\"\n",
    "\n",
    "  # Vector from plane point to the point to be projected\n",
    "  v = point - plane_point\n",
    "\n",
    "  # Distance from plane point to projection (scalar)\n",
    "  d = np.dot(v, normal) / np.linalg.norm(normal)\n",
    "\n",
    "  # Projection of the point onto the plane\n",
    "  projection = plane_point + d * normal\n",
    "\n",
    "  return projection\n",
    "\n",
    "\n",
    "def calculate_perpendicular_distance_to_triangle(plane_normal, plane_point, triangle):\n",
    "  \"\"\"\n",
    "  Calculates the perpendicular distance between a plane and a triangle.\n",
    "\n",
    "  Args:\n",
    "      plane_normal: A NumPy array of shape (3,) representing the plane's normal vector.\n",
    "      plane_point: A NumPy array of shape (3,) representing a point on the plane.\n",
    "      triangle: A NumPy array of shape (3, 3) representing the triangle vertices.\n",
    "\n",
    "  Returns:\n",
    "      The perpendicular distance between the plane and the triangle (or None if no intersection).\n",
    "  \"\"\"\n",
    "\n",
    "  # Calculate triangle centroid\n",
    "  centroid = np.mean(triangle, axis=0)\n",
    "\n",
    "  # Project the centroid onto the plane\n",
    "  projected_centroid = project_point_onto_plane(centroid, plane_normal, plane_point)\n",
    "\n",
    "  # Perpendicular distance is the distance between the projected point and centroid\n",
    "  return np.linalg.norm(projected_centroid - centroid)\n",
    "\n",
    "\n",
    "def calculate_perpendicular_distances_to_mesh2(plane_equations_with_normals, mesh2):\n",
    "  \"\"\"\n",
    "  Calculates perpendicular distances between a list of planes and a mesh.\n",
    "\n",
    "  Args:\n",
    "      plane_equations_with_normals: A list of tuples, where each tuple contains a plane equation (4,) and a normal vector (3,).\n",
    "      mesh2: A mesh object from your mesh processing library.\n",
    "\n",
    "  Returns:\n",
    "      A list of distances, where each element corresponds to the perpendicular distance between a plane and mesh2 (or None if no intersection).\n",
    "  \"\"\"\n",
    "\n",
    "  distances = []\n",
    "  for plane_equation, plane_normal in plane_equations_with_normals:\n",
    "    plane_point = plane_equation[3] / np.linalg.norm(plane_equation[:3])  # Normalize reference point\n",
    "    perpendicular_distances = []\n",
    "\n",
    "    # vtk code to access triangles\n",
    "    triangles = []\n",
    "    for i in range(mesh2.GetNumberOfPolys()):\n",
    "      poly = mesh2.GetCell(i)\n",
    "      if poly.GetCellType() == vtk.VTK_TRIANGLE:\n",
    "        points = [mesh2.GetPoint(poly.GetPointId(j)) for j in range(poly.GetNumberOfPoints())]\n",
    "        triangles.append(np.array(points))\n",
    "\n",
    "    # Loop through the filtered triangles\n",
    "    for triangle_index, triangle in enumerate(triangles):\n",
    "      distance = calculate_perpendicular_distance_to_triangle(plane_normal, plane_point, triangle)\n",
    "      perpendicular_distances.append(distance)\n",
    "\n",
    "    # If there's at least one non-None distance, use the minimum value\n",
    "    if any(dist is not None for dist in perpendicular_distances):\n",
    "      distances.append(min(dist for dist in perpendicular_distances if dist is not None))\n",
    "    else:\n",
    "      distances.append(None)  # No intersection with any triangle\n",
    "\n",
    "  return distances\n",
    "\n",
    "\n",
    "# Example usage (assuming you have plane_equations_with_normals and mesh2)\n",
    "distances = calculate_perpendicular_distances_to_mesh2(plane_equations_with_normals, mesh2)\n",
    "\n",
    "print(f\"Number of distances calculated: {len(distances)}\")\n",
    "# Access individual distances from the list"
   ]
  },
  {
   "cell_type": "code",
   "execution_count": 157,
   "id": "ce4d118f-356d-43b7-9f21-ab47a12edaae",
   "metadata": {},
   "outputs": [
    {
     "name": "stdout",
     "output_type": "stream",
     "text": [
      "Minimum distance: 0.0\n",
      "Maximum distance: 0.0\n",
      "Average distance: 0.0\n",
      "Length: 800\n"
     ]
    }
   ],
   "source": [
    "print(f\"Minimum distance: {min(distances)}\")\n",
    "print(f\"Maximum distance: {max(distances)}\")\n",
    "print(f\"Average distance: {np.mean(distances)}\")\n",
    "print(f\"Length: {len(distances)}\")"
   ]
  },
  {
   "cell_type": "code",
   "execution_count": null,
   "id": "7f48b053-45da-472f-85d7-d91f1b96d396",
   "metadata": {},
   "outputs": [],
   "source": []
  }
 ],
 "metadata": {
  "kernelspec": {
   "display_name": "Python 3 (ipykernel)",
   "language": "python",
   "name": "python3"
  },
  "language_info": {
   "codemirror_mode": {
    "name": "ipython",
    "version": 3
   },
   "file_extension": ".py",
   "mimetype": "text/x-python",
   "name": "python",
   "nbconvert_exporter": "python",
   "pygments_lexer": "ipython3",
   "version": "3.11.7"
  }
 },
 "nbformat": 4,
 "nbformat_minor": 5
}
